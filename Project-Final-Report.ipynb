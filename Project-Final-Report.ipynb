{
  "cells": [
    {
      "cell_type": "markdown",
      "id": "e9656b57-fbf4-4aaa-a131-f2f2006a58be",
      "metadata": {
        "id": "e9656b57-fbf4-4aaa-a131-f2f2006a58be"
      },
      "source": [
        "# Analyzing the Impact of Ascites and D-Penicillamine on Mortality in Primary Biliary Cirrhosis Patients: A Statistical Inference Study\n",
        "#### Authors: Hrishi Logani, Rithika Nair, Yuexiang Ni, Yuxi Zhang (Group 43)"
      ]
    },
    {
      "cell_type": "markdown",
      "id": "83527891-e9bd-4b2e-b749-2f1d4c0caae1",
      "metadata": {
        "id": "83527891-e9bd-4b2e-b749-2f1d4c0caae1"
      },
      "source": [
        "## Introduction"
      ]
    },
    {
      "cell_type": "markdown",
      "id": "6d0a2c47-6444-40fe-8fb0-a09e70c3527f",
      "metadata": {
        "id": "6d0a2c47-6444-40fe-8fb0-a09e70c3527f"
      },
      "source": [
        "Primary biliary cirrhosis (PBC) is a chronic condition characterized by gradual damage and deterioration of the liver's bile ducts, leading to substantial liver-related health challenges. PBC stands as a prominent contributor to liver-related illnesses and fatalities. The prognosis of PBC is influenced by multiple factors critical to effective treatment (Prince et al., 2002). Notably, advanced PBC often manifests the complication of ascites, characterized by an accumulation of fluid in the abdominal cavity (Purohit, 2015). This project endeavors to examine how ascites impacts the prognosis of patients receiving D-penicillamine. It's worth noting that the effectiveness of D-penicillamine remains uncertain (Purohit, 2015). We chose to analyze this to improve patient treatment insights. Thus, we are asking the following question:\n",
        "\n",
        "#### For Primary Biliary Cirrhosis patients administered with D-Penicillamine, does the presence of Ascites determine their mortality?\n",
        "\n",
        "To investigate this, we shall analyze the difference in mortality rate based on the following categorical variables and the scale parameter will be a standard error of proportions.\n",
        "\n",
        "* Type of treatment (D-penicillamine or Placebo)\n",
        "* Presence of Ascites\n",
        "\n",
        "The analysis will focus on comparing proportions, as both \"Drug\" type and \"Ascites\" presence have only two discrete outcomes. Standard error will be used to quantify the statistic's variation from the population proportion. This project seeks to provide insights into the impact of \"Ascites\" on the prognosis of PBC patients treated with \"D-penicillamine,\" using a comprehensive dataset for a thorough investigation.\n",
        "\n",
        "The dataset used is the __[Cirrhosis Patient Survival Prediction](https://archive.ics.uci.edu/dataset/878/cirrhosis+patient+survival+prediction+dataset-1)__ dataset from the UCI Machine Learning Repository, containing information on 418 PBC patients. Each patient's data includes unique identifiers (\"ID\"), days between registration (\"N_Days\"), patient status (\"Status\"), drug type (\"Drug\"), age (\"Age\"), sex (\"Sex\"), and various clinical parameters."
      ]
    },
    {
      "cell_type": "markdown",
      "id": "Ylv7bYTLUwe8",
      "metadata": {
        "id": "Ylv7bYTLUwe8"
      },
      "source": [
        "## Methods & Results"
      ]
    },
    {
      "cell_type": "markdown",
      "id": "6f7be9c0-afb4-466c-a657-e05a95e915b9",
      "metadata": {
        "id": "6f7be9c0-afb4-466c-a657-e05a95e915b9"
      },
      "source": [
        "### Loading Necessary Libraries"
      ]
    },
    {
      "cell_type": "code",
      "execution_count": 3,
      "id": "a177901e-04ae-448f-9b48-faad9b98056c",
      "metadata": {
        "colab": {
          "base_uri": "https://localhost:8080/"
        },
        "id": "a177901e-04ae-448f-9b48-faad9b98056c",
        "outputId": "784195e5-c165-440b-b015-ec2264efcef7"
      },
      "outputs": [
        {
          "output_type": "stream",
          "name": "stderr",
          "text": [
            "Installing package into ‘/usr/local/lib/R/site-library’\n",
            "(as ‘lib’ is unspecified)\n",
            "\n",
            "Installing package into ‘/usr/local/lib/R/site-library’\n",
            "(as ‘lib’ is unspecified)\n",
            "\n",
            "\n",
            "Attaching package: ‘gridExtra’\n",
            "\n",
            "\n",
            "The following object is masked from ‘package:dplyr’:\n",
            "\n",
            "    combine\n",
            "\n",
            "\n"
          ]
        }
      ],
      "source": [
        "install.packages(\"infer\")\n",
        "install.packages(\"gridExtra\")\n",
        "\n",
        "library(tidyverse)\n",
        "library(broom)\n",
        "library(repr)\n",
        "library(digest)\n",
        "library(infer)\n",
        "library(gridExtra)"
      ]
    },
    {
      "cell_type": "markdown",
      "id": "01ddd584-ec3c-4dfd-aaa3-11552466b61e",
      "metadata": {
        "id": "01ddd584-ec3c-4dfd-aaa3-11552466b61e"
      },
      "source": [
        "### Downloading Dataset from the Web"
      ]
    },
    {
      "cell_type": "markdown",
      "id": "73b8908e-7867-4358-8744-1b24588a5290",
      "metadata": {
        "id": "73b8908e-7867-4358-8744-1b24588a5290"
      },
      "source": [
        "* Downloading the dataset that is stored in a public repository."
      ]
    },
    {
      "cell_type": "code",
      "execution_count": 59,
      "id": "399a1163-a952-441b-b5a5-26d71f2ffb69",
      "metadata": {
        "colab": {
          "base_uri": "https://localhost:8080/",
          "height": 376
        },
        "id": "399a1163-a952-441b-b5a5-26d71f2ffb69",
        "outputId": "a1420e2d-3846-4d12-cda3-91fa70dd9a7c"
      },
      "outputs": [
        {
          "output_type": "display_data",
          "data": {
            "text/html": [
              "<table class=\"dataframe\">\n",
              "<caption>A data.frame: 6 × 20</caption>\n",
              "<thead>\n",
              "\t<tr><th></th><th scope=col>ID</th><th scope=col>N_Days</th><th scope=col>Status</th><th scope=col>Drug</th><th scope=col>Age</th><th scope=col>Sex</th><th scope=col>Ascites</th><th scope=col>Hepatomegaly</th><th scope=col>Spiders</th><th scope=col>Edema</th><th scope=col>Bilirubin</th><th scope=col>Cholesterol</th><th scope=col>Albumin</th><th scope=col>Copper</th><th scope=col>Alk_Phos</th><th scope=col>SGOT</th><th scope=col>Tryglicerides</th><th scope=col>Platelets</th><th scope=col>Prothrombin</th><th scope=col>Stage</th></tr>\n",
              "\t<tr><th></th><th scope=col>&lt;int&gt;</th><th scope=col>&lt;int&gt;</th><th scope=col>&lt;chr&gt;</th><th scope=col>&lt;chr&gt;</th><th scope=col>&lt;int&gt;</th><th scope=col>&lt;chr&gt;</th><th scope=col>&lt;chr&gt;</th><th scope=col>&lt;chr&gt;</th><th scope=col>&lt;chr&gt;</th><th scope=col>&lt;chr&gt;</th><th scope=col>&lt;dbl&gt;</th><th scope=col>&lt;int&gt;</th><th scope=col>&lt;dbl&gt;</th><th scope=col>&lt;int&gt;</th><th scope=col>&lt;dbl&gt;</th><th scope=col>&lt;dbl&gt;</th><th scope=col>&lt;int&gt;</th><th scope=col>&lt;int&gt;</th><th scope=col>&lt;dbl&gt;</th><th scope=col>&lt;int&gt;</th></tr>\n",
              "</thead>\n",
              "<tbody>\n",
              "\t<tr><th scope=row>1</th><td>1</td><td> 400</td><td>D </td><td>D-penicillamine</td><td>21464</td><td>F</td><td>Y</td><td>Y</td><td>Y</td><td>Y</td><td>14.5</td><td>261</td><td>2.60</td><td>156</td><td>1718.0</td><td>137.95</td><td>172</td><td>190</td><td>12.2</td><td>4</td></tr>\n",
              "\t<tr><th scope=row>2</th><td>2</td><td>4500</td><td>C </td><td>D-penicillamine</td><td>20617</td><td>F</td><td>N</td><td>Y</td><td>Y</td><td>N</td><td> 1.1</td><td>302</td><td>4.14</td><td> 54</td><td>7394.8</td><td>113.52</td><td> 88</td><td>221</td><td>10.6</td><td>3</td></tr>\n",
              "\t<tr><th scope=row>3</th><td>3</td><td>1012</td><td>D </td><td>D-penicillamine</td><td>25594</td><td>M</td><td>N</td><td>N</td><td>N</td><td>S</td><td> 1.4</td><td>176</td><td>3.48</td><td>210</td><td> 516.0</td><td> 96.10</td><td> 55</td><td>151</td><td>12.0</td><td>4</td></tr>\n",
              "\t<tr><th scope=row>4</th><td>4</td><td>1925</td><td>D </td><td>D-penicillamine</td><td>19994</td><td>F</td><td>N</td><td>Y</td><td>Y</td><td>S</td><td> 1.8</td><td>244</td><td>2.54</td><td> 64</td><td>6121.8</td><td> 60.63</td><td> 92</td><td>183</td><td>10.3</td><td>4</td></tr>\n",
              "\t<tr><th scope=row>5</th><td>5</td><td>1504</td><td>CL</td><td>Placebo        </td><td>13918</td><td>F</td><td>N</td><td>Y</td><td>Y</td><td>N</td><td> 3.4</td><td>279</td><td>3.53</td><td>143</td><td> 671.0</td><td>113.15</td><td> 72</td><td>136</td><td>10.9</td><td>3</td></tr>\n",
              "\t<tr><th scope=row>6</th><td>6</td><td>2503</td><td>D </td><td>Placebo        </td><td>24201</td><td>F</td><td>N</td><td>Y</td><td>N</td><td>N</td><td> 0.8</td><td>248</td><td>3.98</td><td> 50</td><td> 944.0</td><td> 93.00</td><td> 63</td><td> NA</td><td>11.0</td><td>3</td></tr>\n",
              "</tbody>\n",
              "</table>\n"
            ],
            "text/markdown": "\nA data.frame: 6 × 20\n\n| <!--/--> | ID &lt;int&gt; | N_Days &lt;int&gt; | Status &lt;chr&gt; | Drug &lt;chr&gt; | Age &lt;int&gt; | Sex &lt;chr&gt; | Ascites &lt;chr&gt; | Hepatomegaly &lt;chr&gt; | Spiders &lt;chr&gt; | Edema &lt;chr&gt; | Bilirubin &lt;dbl&gt; | Cholesterol &lt;int&gt; | Albumin &lt;dbl&gt; | Copper &lt;int&gt; | Alk_Phos &lt;dbl&gt; | SGOT &lt;dbl&gt; | Tryglicerides &lt;int&gt; | Platelets &lt;int&gt; | Prothrombin &lt;dbl&gt; | Stage &lt;int&gt; |\n|---|---|---|---|---|---|---|---|---|---|---|---|---|---|---|---|---|---|---|---|---|\n| 1 | 1 |  400 | D  | D-penicillamine | 21464 | F | Y | Y | Y | Y | 14.5 | 261 | 2.60 | 156 | 1718.0 | 137.95 | 172 | 190 | 12.2 | 4 |\n| 2 | 2 | 4500 | C  | D-penicillamine | 20617 | F | N | Y | Y | N |  1.1 | 302 | 4.14 |  54 | 7394.8 | 113.52 |  88 | 221 | 10.6 | 3 |\n| 3 | 3 | 1012 | D  | D-penicillamine | 25594 | M | N | N | N | S |  1.4 | 176 | 3.48 | 210 |  516.0 |  96.10 |  55 | 151 | 12.0 | 4 |\n| 4 | 4 | 1925 | D  | D-penicillamine | 19994 | F | N | Y | Y | S |  1.8 | 244 | 2.54 |  64 | 6121.8 |  60.63 |  92 | 183 | 10.3 | 4 |\n| 5 | 5 | 1504 | CL | Placebo         | 13918 | F | N | Y | Y | N |  3.4 | 279 | 3.53 | 143 |  671.0 | 113.15 |  72 | 136 | 10.9 | 3 |\n| 6 | 6 | 2503 | D  | Placebo         | 24201 | F | N | Y | N | N |  0.8 | 248 | 3.98 |  50 |  944.0 |  93.00 |  63 |  NA | 11.0 | 3 |\n\n",
            "text/latex": "A data.frame: 6 × 20\n\\begin{tabular}{r|llllllllllllllllllll}\n  & ID & N\\_Days & Status & Drug & Age & Sex & Ascites & Hepatomegaly & Spiders & Edema & Bilirubin & Cholesterol & Albumin & Copper & Alk\\_Phos & SGOT & Tryglicerides & Platelets & Prothrombin & Stage\\\\\n  & <int> & <int> & <chr> & <chr> & <int> & <chr> & <chr> & <chr> & <chr> & <chr> & <dbl> & <int> & <dbl> & <int> & <dbl> & <dbl> & <int> & <int> & <dbl> & <int>\\\\\n\\hline\n\t1 & 1 &  400 & D  & D-penicillamine & 21464 & F & Y & Y & Y & Y & 14.5 & 261 & 2.60 & 156 & 1718.0 & 137.95 & 172 & 190 & 12.2 & 4\\\\\n\t2 & 2 & 4500 & C  & D-penicillamine & 20617 & F & N & Y & Y & N &  1.1 & 302 & 4.14 &  54 & 7394.8 & 113.52 &  88 & 221 & 10.6 & 3\\\\\n\t3 & 3 & 1012 & D  & D-penicillamine & 25594 & M & N & N & N & S &  1.4 & 176 & 3.48 & 210 &  516.0 &  96.10 &  55 & 151 & 12.0 & 4\\\\\n\t4 & 4 & 1925 & D  & D-penicillamine & 19994 & F & N & Y & Y & S &  1.8 & 244 & 2.54 &  64 & 6121.8 &  60.63 &  92 & 183 & 10.3 & 4\\\\\n\t5 & 5 & 1504 & CL & Placebo         & 13918 & F & N & Y & Y & N &  3.4 & 279 & 3.53 & 143 &  671.0 & 113.15 &  72 & 136 & 10.9 & 3\\\\\n\t6 & 6 & 2503 & D  & Placebo         & 24201 & F & N & Y & N & N &  0.8 & 248 & 3.98 &  50 &  944.0 &  93.00 &  63 &  NA & 11.0 & 3\\\\\n\\end{tabular}\n",
            "text/plain": [
              "  ID N_Days Status Drug            Age   Sex Ascites Hepatomegaly Spiders Edema\n",
              "1 1   400   D      D-penicillamine 21464 F   Y       Y            Y       Y    \n",
              "2 2  4500   C      D-penicillamine 20617 F   N       Y            Y       N    \n",
              "3 3  1012   D      D-penicillamine 25594 M   N       N            N       S    \n",
              "4 4  1925   D      D-penicillamine 19994 F   N       Y            Y       S    \n",
              "5 5  1504   CL     Placebo         13918 F   N       Y            Y       N    \n",
              "6 6  2503   D      Placebo         24201 F   N       Y            N       N    \n",
              "  Bilirubin Cholesterol Albumin Copper Alk_Phos SGOT   Tryglicerides Platelets\n",
              "1 14.5      261         2.60    156    1718.0   137.95 172           190      \n",
              "2  1.1      302         4.14     54    7394.8   113.52  88           221      \n",
              "3  1.4      176         3.48    210     516.0    96.10  55           151      \n",
              "4  1.8      244         2.54     64    6121.8    60.63  92           183      \n",
              "5  3.4      279         3.53    143     671.0   113.15  72           136      \n",
              "6  0.8      248         3.98     50     944.0    93.00  63            NA      \n",
              "  Prothrombin Stage\n",
              "1 12.2        4    \n",
              "2 10.6        3    \n",
              "3 12.0        4    \n",
              "4 10.3        4    \n",
              "5 10.9        3    \n",
              "6 11.0        3    "
            ]
          },
          "metadata": {}
        }
      ],
      "source": [
        "# URL containing the dataset\n",
        "url <- \"https://raw.githubusercontent.com/Rithika-Nair/STAT-201-Final_Project/main/cirrhosis.csv\"\n",
        "\n",
        "# Download cirrhosis.csv from the url\n",
        "download.file(url, \"cirrhosis.csv\")\n",
        "\n",
        "# Store the dataset into variable\n",
        "cirr_data <- read.csv(\"cirrhosis.csv\")\n",
        "\n",
        "# Display the first few rows of the dataset\n",
        "head(cirr_data)"
      ]
    },
    {
      "cell_type": "markdown",
      "id": "3115bef7-fe87-41e2-b1c3-83769486fef1",
      "metadata": {
        "id": "3115bef7-fe87-41e2-b1c3-83769486fef1"
      },
      "source": [
        "### Data Cleaning and Preprocessing"
      ]
    },
    {
      "cell_type": "markdown",
      "id": "a88844e6-4d1a-4782-90de-c12419673715",
      "metadata": {
        "id": "a88844e6-4d1a-4782-90de-c12419673715"
      },
      "source": [
        "* Selecting columns relevant to our analysis: `Status`, `Drug`, `Ascites`."
      ]
    },
    {
      "cell_type": "code",
      "execution_count": 60,
      "id": "b5a698c5-9adc-46b3-bd19-131ca71f930b",
      "metadata": {
        "colab": {
          "base_uri": "https://localhost:8080/",
          "height": 304
        },
        "id": "b5a698c5-9adc-46b3-bd19-131ca71f930b",
        "outputId": "0b314035-209d-49e0-fa72-cba34e046e8d"
      },
      "outputs": [
        {
          "output_type": "display_data",
          "data": {
            "text/html": [
              "<table class=\"dataframe\">\n",
              "<caption>A data.frame: 6 × 3</caption>\n",
              "<thead>\n",
              "\t<tr><th></th><th scope=col>Status</th><th scope=col>Drug</th><th scope=col>Ascites</th></tr>\n",
              "\t<tr><th></th><th scope=col>&lt;chr&gt;</th><th scope=col>&lt;chr&gt;</th><th scope=col>&lt;chr&gt;</th></tr>\n",
              "</thead>\n",
              "<tbody>\n",
              "\t<tr><th scope=row>1</th><td>D </td><td>D-penicillamine</td><td>Y</td></tr>\n",
              "\t<tr><th scope=row>2</th><td>C </td><td>D-penicillamine</td><td>N</td></tr>\n",
              "\t<tr><th scope=row>3</th><td>D </td><td>D-penicillamine</td><td>N</td></tr>\n",
              "\t<tr><th scope=row>4</th><td>D </td><td>D-penicillamine</td><td>N</td></tr>\n",
              "\t<tr><th scope=row>5</th><td>CL</td><td>Placebo        </td><td>N</td></tr>\n",
              "\t<tr><th scope=row>6</th><td>D </td><td>Placebo        </td><td>N</td></tr>\n",
              "</tbody>\n",
              "</table>\n"
            ],
            "text/markdown": "\nA data.frame: 6 × 3\n\n| <!--/--> | Status &lt;chr&gt; | Drug &lt;chr&gt; | Ascites &lt;chr&gt; |\n|---|---|---|---|\n| 1 | D  | D-penicillamine | Y |\n| 2 | C  | D-penicillamine | N |\n| 3 | D  | D-penicillamine | N |\n| 4 | D  | D-penicillamine | N |\n| 5 | CL | Placebo         | N |\n| 6 | D  | Placebo         | N |\n\n",
            "text/latex": "A data.frame: 6 × 3\n\\begin{tabular}{r|lll}\n  & Status & Drug & Ascites\\\\\n  & <chr> & <chr> & <chr>\\\\\n\\hline\n\t1 & D  & D-penicillamine & Y\\\\\n\t2 & C  & D-penicillamine & N\\\\\n\t3 & D  & D-penicillamine & N\\\\\n\t4 & D  & D-penicillamine & N\\\\\n\t5 & CL & Placebo         & N\\\\\n\t6 & D  & Placebo         & N\\\\\n\\end{tabular}\n",
            "text/plain": [
              "  Status Drug            Ascites\n",
              "1 D      D-penicillamine Y      \n",
              "2 C      D-penicillamine N      \n",
              "3 D      D-penicillamine N      \n",
              "4 D      D-penicillamine N      \n",
              "5 CL     Placebo         N      \n",
              "6 D      Placebo         N      "
            ]
          },
          "metadata": {}
        },
        {
          "output_type": "display_data",
          "data": {
            "text/html": [
              "418"
            ],
            "text/markdown": "418",
            "text/latex": "418",
            "text/plain": [
              "[1] 418"
            ]
          },
          "metadata": {}
        }
      ],
      "source": [
        "cirrhosis <- cirr_data %>%\n",
        "        select(Status, Drug, Ascites)\n",
        "\n",
        "head(cirrhosis)\n",
        "nrow(cirrhosis)"
      ]
    },
    {
      "cell_type": "markdown",
      "id": "1d365a80-cf35-4e5f-8fef-e20c6a3dc8d0",
      "metadata": {
        "id": "1d365a80-cf35-4e5f-8fef-e20c6a3dc8d0"
      },
      "source": [
        "* Checking for missing values in each of the columns and removing the rows that contain missing values."
      ]
    },
    {
      "cell_type": "code",
      "execution_count": 61,
      "id": "f085b3e2-d0b3-4dfb-82b7-9f131d02954c",
      "metadata": {
        "colab": {
          "base_uri": "https://localhost:8080/"
        },
        "id": "f085b3e2-d0b3-4dfb-82b7-9f131d02954c",
        "outputId": "f3bf8f02-2769-498f-f1bf-5d1aeb2a2263"
      },
      "outputs": [
        {
          "output_type": "stream",
          "name": "stdout",
          "text": [
            "[1] 0\n",
            "[1] 106\n",
            "[1] 106\n"
          ]
        }
      ],
      "source": [
        "# Printing the number of missing values in each column\n",
        "print(sum(is.na(cirrhosis$Status)))\n",
        "print(sum(is.na(cirrhosis$Drug)))\n",
        "print(sum(is.na(cirrhosis$Ascites)))"
      ]
    },
    {
      "cell_type": "code",
      "execution_count": 62,
      "id": "1dd5a118-8851-483b-8c06-7d0daa2c7121",
      "metadata": {
        "colab": {
          "base_uri": "https://localhost:8080/",
          "height": 304
        },
        "id": "1dd5a118-8851-483b-8c06-7d0daa2c7121",
        "outputId": "b75cf47b-2d97-4f28-d315-58ec11845374"
      },
      "outputs": [
        {
          "output_type": "display_data",
          "data": {
            "text/html": [
              "<table class=\"dataframe\">\n",
              "<caption>A data.frame: 6 × 3</caption>\n",
              "<thead>\n",
              "\t<tr><th></th><th scope=col>Status</th><th scope=col>Drug</th><th scope=col>Ascites</th></tr>\n",
              "\t<tr><th></th><th scope=col>&lt;chr&gt;</th><th scope=col>&lt;chr&gt;</th><th scope=col>&lt;chr&gt;</th></tr>\n",
              "</thead>\n",
              "<tbody>\n",
              "\t<tr><th scope=row>1</th><td>D </td><td>D-penicillamine</td><td>Y</td></tr>\n",
              "\t<tr><th scope=row>2</th><td>D </td><td>D-penicillamine</td><td>N</td></tr>\n",
              "\t<tr><th scope=row>3</th><td>D </td><td>D-penicillamine</td><td>N</td></tr>\n",
              "\t<tr><th scope=row>4</th><td>CL</td><td>Placebo        </td><td>N</td></tr>\n",
              "\t<tr><th scope=row>5</th><td>D </td><td>Placebo        </td><td>N</td></tr>\n",
              "\t<tr><th scope=row>6</th><td>D </td><td>Placebo        </td><td>N</td></tr>\n",
              "</tbody>\n",
              "</table>\n"
            ],
            "text/markdown": "\nA data.frame: 6 × 3\n\n| <!--/--> | Status &lt;chr&gt; | Drug &lt;chr&gt; | Ascites &lt;chr&gt; |\n|---|---|---|---|\n| 1 | D  | D-penicillamine | Y |\n| 2 | D  | D-penicillamine | N |\n| 3 | D  | D-penicillamine | N |\n| 4 | CL | Placebo         | N |\n| 5 | D  | Placebo         | N |\n| 6 | D  | Placebo         | N |\n\n",
            "text/latex": "A data.frame: 6 × 3\n\\begin{tabular}{r|lll}\n  & Status & Drug & Ascites\\\\\n  & <chr> & <chr> & <chr>\\\\\n\\hline\n\t1 & D  & D-penicillamine & Y\\\\\n\t2 & D  & D-penicillamine & N\\\\\n\t3 & D  & D-penicillamine & N\\\\\n\t4 & CL & Placebo         & N\\\\\n\t5 & D  & Placebo         & N\\\\\n\t6 & D  & Placebo         & N\\\\\n\\end{tabular}\n",
            "text/plain": [
              "  Status Drug            Ascites\n",
              "1 D      D-penicillamine Y      \n",
              "2 D      D-penicillamine N      \n",
              "3 D      D-penicillamine N      \n",
              "4 CL     Placebo         N      \n",
              "5 D      Placebo         N      \n",
              "6 D      Placebo         N      "
            ]
          },
          "metadata": {}
        },
        {
          "output_type": "display_data",
          "data": {
            "text/html": [
              "144"
            ],
            "text/markdown": "144",
            "text/latex": "144",
            "text/plain": [
              "[1] 144"
            ]
          },
          "metadata": {}
        }
      ],
      "source": [
        "# Filtering out the rows containing NA values in either Drug or Ascites columns\n",
        "cirrhosis_filtered <- cirrhosis %>%\n",
        "        filter(!is.na(Drug)) %>%\n",
        "        filter(!is.na(Ascites)) %>%\n",
        "        filter(Status %in% c(\"CL\", \"D\"))\n",
        "\n",
        "head(cirrhosis_filtered)\n",
        "nrow(cirrhosis_filtered)"
      ]
    },
    {
      "cell_type": "markdown",
      "id": "f3gZXd7eAi9W",
      "metadata": {
        "id": "f3gZXd7eAi9W"
      },
      "source": [
        "### Exploratory data analysis\n",
        "\n",
        "\n",
        "* We shall conduct our analysis by grouping the patients into 2 different groups.\n",
        "    * Group 1: Patients administered with D-penicillamine and have Ascites\n",
        "    * Group 2: Patients administered with D-penicillamine but don't have Ascites.\n",
        "\n",
        "\n"
      ]
    },
    {
      "cell_type": "code",
      "execution_count": 63,
      "id": "_oycPK8rJVXE",
      "metadata": {
        "colab": {
          "base_uri": "https://localhost:8080/",
          "height": 286
        },
        "id": "_oycPK8rJVXE",
        "outputId": "57836b85-4725-4b34-ca2d-ff7da79d0f30"
      },
      "outputs": [
        {
          "output_type": "display_data",
          "data": {
            "text/html": [
              "<table class=\"dataframe\">\n",
              "<caption>A data.frame: 6 × 3</caption>\n",
              "<thead>\n",
              "\t<tr><th></th><th scope=col>Status</th><th scope=col>Drug</th><th scope=col>Ascites</th></tr>\n",
              "\t<tr><th></th><th scope=col>&lt;chr&gt;</th><th scope=col>&lt;chr&gt;</th><th scope=col>&lt;chr&gt;</th></tr>\n",
              "</thead>\n",
              "<tbody>\n",
              "\t<tr><th scope=row>1</th><td>D</td><td>D-penicillamine</td><td>Y</td></tr>\n",
              "\t<tr><th scope=row>2</th><td>D</td><td>D-penicillamine</td><td>N</td></tr>\n",
              "\t<tr><th scope=row>3</th><td>D</td><td>D-penicillamine</td><td>N</td></tr>\n",
              "\t<tr><th scope=row>4</th><td>D</td><td>D-penicillamine</td><td>N</td></tr>\n",
              "\t<tr><th scope=row>5</th><td>D</td><td>D-penicillamine</td><td>N</td></tr>\n",
              "\t<tr><th scope=row>6</th><td>D</td><td>D-penicillamine</td><td>N</td></tr>\n",
              "</tbody>\n",
              "</table>\n"
            ],
            "text/markdown": "\nA data.frame: 6 × 3\n\n| <!--/--> | Status &lt;chr&gt; | Drug &lt;chr&gt; | Ascites &lt;chr&gt; |\n|---|---|---|---|\n| 1 | D | D-penicillamine | Y |\n| 2 | D | D-penicillamine | N |\n| 3 | D | D-penicillamine | N |\n| 4 | D | D-penicillamine | N |\n| 5 | D | D-penicillamine | N |\n| 6 | D | D-penicillamine | N |\n\n",
            "text/latex": "A data.frame: 6 × 3\n\\begin{tabular}{r|lll}\n  & Status & Drug & Ascites\\\\\n  & <chr> & <chr> & <chr>\\\\\n\\hline\n\t1 & D & D-penicillamine & Y\\\\\n\t2 & D & D-penicillamine & N\\\\\n\t3 & D & D-penicillamine & N\\\\\n\t4 & D & D-penicillamine & N\\\\\n\t5 & D & D-penicillamine & N\\\\\n\t6 & D & D-penicillamine & N\\\\\n\\end{tabular}\n",
            "text/plain": [
              "  Status Drug            Ascites\n",
              "1 D      D-penicillamine Y      \n",
              "2 D      D-penicillamine N      \n",
              "3 D      D-penicillamine N      \n",
              "4 D      D-penicillamine N      \n",
              "5 D      D-penicillamine N      \n",
              "6 D      D-penicillamine N      "
            ]
          },
          "metadata": {}
        }
      ],
      "source": [
        "# filtering dataset to include only those administered with D-penicillamine\n",
        "patients_dp <- cirrhosis_filtered |>\n",
        "               filter(Drug == \"D-penicillamine\")\n",
        "head(patients_dp)"
      ]
    },
    {
      "cell_type": "markdown",
      "source": [
        "Now, we shall perform bootstraping on the variable presence of Ascites."
      ],
      "metadata": {
        "id": "d8nMNUNPV0My"
      },
      "id": "d8nMNUNPV0My"
    },
    {
      "cell_type": "code",
      "source": [
        "# set seed to ensure reproducability\n",
        "set.seed(69)\n",
        "\n",
        "bootstrap_ascites_present <- patients_dp |>\n",
        "                             specify(response = Ascites, success = \"Y\") |>\n",
        "                             generate(type = \"bootstrap\", reps = 1000) |>\n",
        "                             calculate(stat=\"prop\")\n",
        "ascites_present_ci <- bootstrap_ascites_present |>\n",
        "                      get_ci(level = 0.95, type = \"percentile\")\n",
        "\n",
        "bootstrap_ascites_absent <- patients_dp |>\n",
        "                            specify(response = Ascites,  success = \"N\") |>\n",
        "                            generate(type = \"bootstrap\", reps = 1000) |>\n",
        "                            calculate(stat=\"prop\")\n",
        "\n",
        "ascites_absent_ci <- bootstrap_ascites_absent |>\n",
        "                      get_ci(level = 0.95, type = \"percentile\")\n",
        "\n",
        "ascites_present_ci\n",
        "ascites_absent_ci"
      ],
      "metadata": {
        "colab": {
          "base_uri": "https://localhost:8080/",
          "height": 242
        },
        "id": "MO3BO8OwVzdR",
        "outputId": "e9e3fd90-1ee4-4410-9a4c-19cff74f078d"
      },
      "id": "MO3BO8OwVzdR",
      "execution_count": 64,
      "outputs": [
        {
          "output_type": "display_data",
          "data": {
            "text/html": [
              "<table class=\"dataframe\">\n",
              "<caption>A tibble: 1 × 2</caption>\n",
              "<thead>\n",
              "\t<tr><th scope=col>lower_ci</th><th scope=col>upper_ci</th></tr>\n",
              "\t<tr><th scope=col>&lt;dbl&gt;</th><th scope=col>&lt;dbl&gt;</th></tr>\n",
              "</thead>\n",
              "<tbody>\n",
              "\t<tr><td>0.09333333</td><td>0.2666667</td></tr>\n",
              "</tbody>\n",
              "</table>\n"
            ],
            "text/markdown": "\nA tibble: 1 × 2\n\n| lower_ci &lt;dbl&gt; | upper_ci &lt;dbl&gt; |\n|---|---|\n| 0.09333333 | 0.2666667 |\n\n",
            "text/latex": "A tibble: 1 × 2\n\\begin{tabular}{ll}\n lower\\_ci & upper\\_ci\\\\\n <dbl> & <dbl>\\\\\n\\hline\n\t 0.09333333 & 0.2666667\\\\\n\\end{tabular}\n",
            "text/plain": [
              "  lower_ci   upper_ci \n",
              "1 0.09333333 0.2666667"
            ]
          },
          "metadata": {}
        },
        {
          "output_type": "display_data",
          "data": {
            "text/html": [
              "<table class=\"dataframe\">\n",
              "<caption>A tibble: 1 × 2</caption>\n",
              "<thead>\n",
              "\t<tr><th scope=col>lower_ci</th><th scope=col>upper_ci</th></tr>\n",
              "\t<tr><th scope=col>&lt;dbl&gt;</th><th scope=col>&lt;dbl&gt;</th></tr>\n",
              "</thead>\n",
              "<tbody>\n",
              "\t<tr><td>0.7466667</td><td>0.9066667</td></tr>\n",
              "</tbody>\n",
              "</table>\n"
            ],
            "text/markdown": "\nA tibble: 1 × 2\n\n| lower_ci &lt;dbl&gt; | upper_ci &lt;dbl&gt; |\n|---|---|\n| 0.7466667 | 0.9066667 |\n\n",
            "text/latex": "A tibble: 1 × 2\n\\begin{tabular}{ll}\n lower\\_ci & upper\\_ci\\\\\n <dbl> & <dbl>\\\\\n\\hline\n\t 0.7466667 & 0.9066667\\\\\n\\end{tabular}\n",
            "text/plain": [
              "  lower_ci  upper_ci \n",
              "1 0.7466667 0.9066667"
            ]
          },
          "metadata": {}
        }
      ]
    },
    {
      "cell_type": "code",
      "source": [
        "# bootstrap sampling distribution for patients that  have ascites\n",
        "ascites_present_plot <- bootstrap_ascites_present |>\n",
        "  ggplot(aes(x = stat)) +\n",
        "  geom_histogram(bins = 26, fill = \"orange\") +\n",
        "  ggtitle(\"Prop. of Patients With Ascites\") +\n",
        "  labs(x = \"Proportion\", y = \"Frequency\")\n",
        "\n",
        "# bootstrap sampling distribution for patients that don't have ascites\n",
        "ascites_absent_plot <- bootstrap_ascites_absent |>\n",
        "                       ggplot(aes(x = stat)) +\n",
        "                       geom_histogram(bins = 19, fill = \"orange\") +\n",
        "                       ggtitle(\"Prop. of Patients Without Ascites\") +\n",
        "                       labs(x = \"Proportion\", y = \"Frequency\")\n",
        "\n",
        "# Arrange the plots side by side\n",
        "grid.arrange(ascites_present_plot, ascites_absent_plot, ncol = 2)"
      ],
      "metadata": {
        "colab": {
          "base_uri": "https://localhost:8080/",
          "height": 497
        },
        "id": "4r1WtYkcYLYG",
        "outputId": "9a72b910-401f-4c00-d396-db88cae3da9e"
      },
      "id": "4r1WtYkcYLYG",
      "execution_count": 65,
      "outputs": [
        {
          "output_type": "display_data",
          "data": {
            "text/plain": [
              "plot without title"
            ],
            "image/png": "[encoded data removed]"
          },
          "metadata": {
            "image/png": {
              "width": 600,
              "height": 480
            }
          }
        }
      ]
    },
    {
      "cell_type": "markdown",
      "id": "edd07e90-e1fa-414f-a5b8-badf72bd8da8",
      "metadata": {
        "id": "edd07e90-e1fa-414f-a5b8-badf72bd8da8"
      },
      "source": [
        "* As we will be looking at the proportion of patients who died in Group 1 and Group 2, we will begin by first visualizing proportions from the raw data of patients administered with D-penicillamine."
      ]
    },
    {
      "cell_type": "markdown",
      "id": "faaed92f-0343-486a-a26b-8102de9787b2",
      "metadata": {
        "id": "faaed92f-0343-486a-a26b-8102de9787b2"
      },
      "source": [
        "Now, let's delve into the examination of the mortality rates within each group to understand the proportion of individuals who have unfortunately passed away."
      ]
    },
    {
      "cell_type": "code",
      "execution_count": 66,
      "id": "669cc1a9-e361-40f5-a8ee-69aa25acef60",
      "metadata": {
        "colab": {
          "base_uri": "https://localhost:8080/",
          "height": 161
        },
        "id": "669cc1a9-e361-40f5-a8ee-69aa25acef60",
        "outputId": "1ea9b760-313c-4c59-a6c2-af800a01faf2"
      },
      "outputs": [
        {
          "output_type": "display_data",
          "data": {
            "text/html": [
              "<table class=\"dataframe\">\n",
              "<caption>A tibble: 2 × 2</caption>\n",
              "<thead>\n",
              "\t<tr><th scope=col>Ascites</th><th scope=col>prop</th></tr>\n",
              "\t<tr><th scope=col>&lt;chr&gt;</th><th scope=col>&lt;dbl&gt;</th></tr>\n",
              "</thead>\n",
              "<tbody>\n",
              "\t<tr><td>N</td><td>0.8</td></tr>\n",
              "\t<tr><td>Y</td><td>0.2</td></tr>\n",
              "</tbody>\n",
              "</table>\n"
            ],
            "text/markdown": "\nA tibble: 2 × 2\n\n| Ascites &lt;chr&gt; | prop &lt;dbl&gt; |\n|---|---|\n| N | 0.8 |\n| Y | 0.2 |\n\n",
            "text/latex": "A tibble: 2 × 2\n\\begin{tabular}{ll}\n Ascites & prop\\\\\n <chr> & <dbl>\\\\\n\\hline\n\t N & 0.8\\\\\n\t Y & 0.2\\\\\n\\end{tabular}\n",
            "text/plain": [
              "  Ascites prop\n",
              "1 N       0.8 \n",
              "2 Y       0.2 "
            ]
          },
          "metadata": {}
        }
      ],
      "source": [
        "# Counting the patients who have died in Group 1 and Group 2\n",
        "patients_dp_died <- patients_dp |>\n",
        "                    group_by(Ascites) |>\n",
        "                    filter(Status == \"D\") |>\n",
        "                    summarize(count = n())\n",
        "\n",
        "# patients_dp_died\n",
        "\n",
        "# Calculating the proportion of patients in Group 1 and Group 2\n",
        "prop_dp_died <- patients_dp_died |>\n",
        "                mutate(prop = count/sum(count)) |>\n",
        "                select(Ascites, prop)\n",
        "\n",
        "prop_dp_died"
      ]
    },
    {
      "cell_type": "code",
      "execution_count": 80,
      "id": "ce2e4643-1ae7-40f3-8137-c728a39bf8fa",
      "metadata": {
        "colab": {
          "base_uri": "https://localhost:8080/",
          "height": 515
        },
        "id": "ce2e4643-1ae7-40f3-8137-c728a39bf8fa",
        "outputId": "45d3cc15-492d-40d4-d190-566fefe50e27"
      },
      "outputs": [
        {
          "output_type": "display_data",
          "data": {
            "text/plain": [
              "NULL"
            ]
          },
          "metadata": {}
        },
        {
          "output_type": "display_data",
          "data": {
            "text/plain": [
              "plot without title"
            ],
            "image/png": "[encoded data removed]"
          },
          "metadata": {
            "image/png": {
              "width": 600,
              "height": 480
            }
          }
        }
      ],
      "source": [
        "# set the size of the plot (optional)\n",
        "options(repr.plot.width = 10, repr.plot.height = 8)\n",
        "\n",
        "# Plot a histogram to visualize the proportions\n",
        "raw_data_prop_plot <- prop_dp_died |>\n",
        "              ggplot(aes(x = Ascites, y = prop, fill = Ascites)) +\n",
        "              geom_col() +\n",
        "              ggtitle(\"Fig : Mortality proportions by the occurence of Ascites\")\n",
        "              labs(x = \"Presence of Ascites\", y = \"Proportion\") +\n",
        "              geom_text(aes(label = prop))\n",
        "\n",
        "raw_data_prop_plot"
      ]
    },
    {
      "cell_type": "markdown",
      "source": [
        "The above figure  indicates a noteworthy contrast in the mortality rates of patients treated with D-penicillamine, distinguishing between those with and without Ascites. The observed disparity in outcomes suggests a significant difference."
      ],
      "metadata": {
        "id": "nsjZOkH2f3SF"
      },
      "id": "nsjZOkH2f3SF"
    },
    {
      "cell_type": "markdown",
      "id": "hrQM6_3fEAVA",
      "metadata": {
        "id": "hrQM6_3fEAVA"
      },
      "source": [
        "### Hypothesis Testing\n",
        "\n",
        "The estimates produced in the previous section are not sufficient as there is no mention of the statistical significance of the evidence. Therefore, we will need to perform hypothesis testing to determine the reliability of our conclusion. We plan to support our data by testing the following hypothesis:\n",
        "\n",
        "*   $ H_0 : p_1 - p_2 = 0$\n",
        "*   $ H_1 : p_1 - p_2 \\neq 0$\n",
        "\n",
        "\n",
        "\n",
        "Here, $p_1$ denotes the proportion of patients administered with D-penicillamine and have Ascites who died, while $p_2$ represents the proportion of patients administered with D-penicillamine and do not have ascites but still died. The objective is to rigorously assess the statistical evidence supporting our conclusions.\n",
        "The null hypothesis states that the difference in mortality rates between patients administered with D-penicillamine and have Ascites ($p_1$) and those administered with D-penicillamine without ascites ($p_2$) who died is zero whereas the alternative hypothesis states that there is a difference between mortality rates between the two groups.\n",
        "\n",
        "We have chosen a significance level of $α=0.05$ for our hypothesis testing, striking a balance between the probabilities of type 1 and type 2 errors. Opting for a lower significance level would elevate the risk of committing a type 2 error, which, in this context, is more consequential than a type 1 error. A type 2 error would imply the erroneous conclusion that there is no difference in mortality rates when, in fact, there is. Conversely, increasing the significance level would necessitate stronger evidence to reach a statistically significant conclusion. Hence, our selected significance level aligns with the objective of minimizing both types of errors while maintaining a practical balance.\n"
      ]
    },
    {
      "cell_type": "markdown",
      "id": "NQF6sJ_xJOeO",
      "metadata": {
        "id": "NQF6sJ_xJOeO"
      },
      "source": [
        "### Creating the null model\n",
        "*   Now, we shall calculate the summary statistic and make a null distribution using the infer package.\n"
      ]
    },
    {
      "cell_type": "code",
      "execution_count": 69,
      "id": "49cc97fd-2cd5-4c40-bb15-fdf443bcfbc6",
      "metadata": {
        "colab": {
          "base_uri": "https://localhost:8080/",
          "height": 286
        },
        "id": "49cc97fd-2cd5-4c40-bb15-fdf443bcfbc6",
        "outputId": "fe565065-d004-4daa-f457-47fafaccb860"
      },
      "outputs": [
        {
          "output_type": "display_data",
          "data": {
            "text/html": [
              "<table class=\"dataframe\">\n",
              "<caption>A infer: 6 × 2</caption>\n",
              "<thead>\n",
              "\t<tr><th scope=col>replicate</th><th scope=col>stat</th></tr>\n",
              "\t<tr><th scope=col>&lt;int&gt;</th><th scope=col>&lt;dbl&gt;</th></tr>\n",
              "</thead>\n",
              "<tbody>\n",
              "\t<tr><td>1</td><td>-0.02481390</td></tr>\n",
              "\t<tr><td>2</td><td> 0.06823821</td></tr>\n",
              "\t<tr><td>3</td><td> 0.16129032</td></tr>\n",
              "\t<tr><td>4</td><td> 0.06823821</td></tr>\n",
              "\t<tr><td>5</td><td>-0.11786600</td></tr>\n",
              "\t<tr><td>6</td><td> 0.16129032</td></tr>\n",
              "</tbody>\n",
              "</table>\n"
            ],
            "text/markdown": "\nA infer: 6 × 2\n\n| replicate &lt;int&gt; | stat &lt;dbl&gt; |\n|---|---|\n| 1 | -0.02481390 |\n| 2 |  0.06823821 |\n| 3 |  0.16129032 |\n| 4 |  0.06823821 |\n| 5 | -0.11786600 |\n| 6 |  0.16129032 |\n\n",
            "text/latex": "A infer: 6 × 2\n\\begin{tabular}{ll}\n replicate & stat\\\\\n <int> & <dbl>\\\\\n\\hline\n\t 1 & -0.02481390\\\\\n\t 2 &  0.06823821\\\\\n\t 3 &  0.16129032\\\\\n\t 4 &  0.06823821\\\\\n\t 5 & -0.11786600\\\\\n\t 6 &  0.16129032\\\\\n\\end{tabular}\n",
            "text/plain": [
              "  replicate stat       \n",
              "1 1         -0.02481390\n",
              "2 2          0.06823821\n",
              "3 3          0.16129032\n",
              "4 4          0.06823821\n",
              "5 5         -0.11786600\n",
              "6 6          0.16129032"
            ]
          },
          "metadata": {}
        }
      ],
      "source": [
        "# set seed to ensure that data is reproducible\n",
        "set.seed(69)\n",
        "\n",
        "# create the null distribution\n",
        "null_distribution <- patients_dp |>\n",
        "                     specify(formula = Status ~ Ascites, success = \"D\") |>\n",
        "                     hypothesize(null=\"independence\") |>\n",
        "                     generate(reps = 1000, type = \"permute\") |>\n",
        "                     calculate(stat = \"diff in props\", order = c(\"Y\", \"N\"))\n",
        "\n",
        "head(null_distribution)\n"
      ]
    },
    {
      "cell_type": "markdown",
      "id": "qmEIS5ASMr49",
      "metadata": {
        "id": "qmEIS5ASMr49"
      },
      "source": [
        "Table <No> : 1000 samples taken from the Null Model using the infer package"
      ]
    },
    {
      "cell_type": "markdown",
      "id": "lcRRdAjsNF13",
      "metadata": {
        "id": "lcRRdAjsNF13"
      },
      "source": [
        "### Calculating test statistic\n",
        "\n",
        "\n",
        "*  Now, we shall calculate the observed difference in mortality rates using infer package.\n",
        "\n"
      ]
    },
    {
      "cell_type": "code",
      "execution_count": 70,
      "id": "zM5V2FFxNXUF",
      "metadata": {
        "colab": {
          "base_uri": "https://localhost:8080/",
          "height": 129
        },
        "id": "zM5V2FFxNXUF",
        "outputId": "2078ae1b-338e-4e74-e6f8-cfa7ab22f256"
      },
      "outputs": [
        {
          "output_type": "display_data",
          "data": {
            "text/html": [
              "<table class=\"dataframe\">\n",
              "<caption>A infer: 1 × 1</caption>\n",
              "<thead>\n",
              "\t<tr><th scope=col>stat</th></tr>\n",
              "\t<tr><th scope=col>&lt;dbl&gt;</th></tr>\n",
              "</thead>\n",
              "<tbody>\n",
              "\t<tr><td>0.1612903</td></tr>\n",
              "</tbody>\n",
              "</table>\n"
            ],
            "text/markdown": "\nA infer: 1 × 1\n\n| stat &lt;dbl&gt; |\n|---|\n| 0.1612903 |\n\n",
            "text/latex": "A infer: 1 × 1\n\\begin{tabular}{l}\n stat\\\\\n <dbl>\\\\\n\\hline\n\t 0.1612903\\\\\n\\end{tabular}\n",
            "text/plain": [
              "  stat     \n",
              "1 0.1612903"
            ]
          },
          "metadata": {}
        }
      ],
      "source": [
        "obs_diff_prop <- patients_dp |>\n",
        "                 specify(Status ~ Ascites, success = \"D\") |>\n",
        "                 calculate(stat = \"diff in props\", order = c(\"Y\", \"N\"))\n",
        "obs_diff_prop"
      ]
    },
    {
      "cell_type": "markdown",
      "id": "P1slae0-OAVI",
      "metadata": {
        "id": "P1slae0-OAVI"
      },
      "source": [
        "Table : Observed Difference in Proportions"
      ]
    },
    {
      "cell_type": "markdown",
      "id": "aBVrWYOWOhYr",
      "metadata": {
        "id": "aBVrWYOWOhYr"
      },
      "source": [
        "### Visualizing the p-value\n",
        "\n",
        "\n",
        "*   The final step is to visualize the p-value on the null distribution\n",
        "*   This means that if the null hypothesis holds true, how surprised would we be to see a difference in mortality rates of 16.13%?\n",
        "*   We accomplish this by first visualizing the null distribution using the  function ```visualize()``` function of infer package, and then we shall use ```shade_p_value``` function and set ```obs_stat``` to ```obs_diff_prop``` and we will set the ```direction = \"right\"``` because our alternative hypothesis is \"more extreme\" than the hypothesized world.\n",
        "\n"
      ]
    },
    {
      "cell_type": "code",
      "execution_count": 78,
      "id": "M8j95UKSPm0c",
      "metadata": {
        "colab": {
          "base_uri": "https://localhost:8080/",
          "height": 497
        },
        "id": "M8j95UKSPm0c",
        "outputId": "5996b8c6-31cb-4dca-df99-36aca8d8cf89"
      },
      "outputs": [
        {
          "output_type": "display_data",
          "data": {
            "text/plain": [
              "plot without title"
            ],
            "image/png": "[encoded data removed]"
          },
          "metadata": {
            "image/png": {
              "width": 600,
              "height": 480
            }
          }
        }
      ],
      "source": [
        "# set the size of the plot\n",
        "options(repr.plot.width = 10, repr.plot.height = 8)\n",
        "\n",
        "# visualizing the null distribution\n",
        "visualise(null_distribution) +\n",
        "         shade_p_value(obs_stat = obs_diff_prop, direction = \"right\")"
      ]
    },
    {
      "cell_type": "markdown",
      "id": "GTm_MWP-Qbde",
      "metadata": {
        "id": "GTm_MWP-Qbde"
      },
      "source": [
        "\n",
        "\n",
        "*   After visualizing the p-value on the null distribution, we can tell that there are chances that we will see a difference in the survival rates of 16.13% in a hypothesized worlf of no difference in the mortality rates between the two groups.\n",
        "*   Therefore, we would fail to reject the null hypothesis, in statistical terminology - \"Do not reject $H_0$\".\n",
        "\n"
      ]
    },
    {
      "cell_type": "markdown",
      "id": "T_4C-SwfRVeS",
      "metadata": {
        "id": "T_4C-SwfRVeS"
      },
      "source": [
        "### Computing the p-value\n",
        "\n",
        "\n",
        "*   We shall compute the p-value using ```get_p_value``` function with ```obs_stat = obs_diff_prop``` and ```direction = \"right\"```.  \n",
        "\n"
      ]
    },
    {
      "cell_type": "code",
      "execution_count": null,
      "id": "X_BRXL3kR2sS",
      "metadata": {
        "id": "X_BRXL3kR2sS"
      },
      "outputs": [],
      "source": [
        "p_val <- null_distribution |>\n",
        "         get_p_value(obs_stat = obs_diff_prop, direction = \"right\")"
      ]
    },
    {
      "cell_type": "markdown",
      "id": "uk9Kvel9SJ43",
      "metadata": {
        "id": "uk9Kvel9SJ43"
      },
      "source": [
        "\n",
        "\n",
        "*   This information indicates that there is a 12.9% probability of observing a mortality rate difference as substantial as 16.13% between individuals treated with D-penicillamine, distinguishing between those with and without ascites, solely due to random sampling fluctuations in a null distribution.\n",
        "*   Since the p-value is larger than our pre-specified significance level of 0.05, we fail to reject the null hypothesis.\n",
        "\n"
      ]
    },
    {
      "cell_type": "markdown",
      "id": "QzdZkYl3YfmH",
      "metadata": {
        "id": "QzdZkYl3YfmH"
      },
      "source": [
        "### Bootstrap method for difference in proportions\n",
        "\n",
        "*   We shall now use boostrapping methods to test our hypothesis.\n"
      ]
    },
    {
      "cell_type": "code",
      "execution_count": null,
      "id": "kuddIBxJYssn",
      "metadata": {
        "colab": {
          "base_uri": "https://localhost:8080/",
          "height": 286
        },
        "id": "kuddIBxJYssn",
        "outputId": "295afb7a-d2c5-407c-8247-12aa3e213261"
      },
      "outputs": [
        {
          "data": {
            "text/html": [
              "<table class=\"dataframe\">\n",
              "<caption>A infer: 6 × 2</caption>\n",
              "<thead>\n",
              "\t<tr><th scope=col>replicate</th><th scope=col>stat</th></tr>\n",
              "\t<tr><th scope=col>&lt;int&gt;</th><th scope=col>&lt;dbl&gt;</th></tr>\n",
              "</thead>\n",
              "<tbody>\n",
              "\t<tr><td>1</td><td>0.1774194</td></tr>\n",
              "\t<tr><td>2</td><td>0.1940299</td></tr>\n",
              "\t<tr><td>3</td><td>0.1896552</td></tr>\n",
              "\t<tr><td>4</td><td>0.1093750</td></tr>\n",
              "\t<tr><td>5</td><td>0.1639344</td></tr>\n",
              "\t<tr><td>6</td><td>0.1641791</td></tr>\n",
              "</tbody>\n",
              "</table>\n"
            ],
            "text/latex": [
              "A infer: 6 × 2\n",
              "\\begin{tabular}{ll}\n",
              " replicate & stat\\\\\n",
              " <int> & <dbl>\\\\\n",
              "\\hline\n",
              "\t 1 & 0.1774194\\\\\n",
              "\t 2 & 0.1940299\\\\\n",
              "\t 3 & 0.1896552\\\\\n",
              "\t 4 & 0.1093750\\\\\n",
              "\t 5 & 0.1639344\\\\\n",
              "\t 6 & 0.1641791\\\\\n",
              "\\end{tabular}\n"
            ],
            "text/markdown": [
              "\n",
              "A infer: 6 × 2\n",
              "\n",
              "| replicate &lt;int&gt; | stat &lt;dbl&gt; |\n",
              "|---|---|\n",
              "| 1 | 0.1774194 |\n",
              "| 2 | 0.1940299 |\n",
              "| 3 | 0.1896552 |\n",
              "| 4 | 0.1093750 |\n",
              "| 5 | 0.1639344 |\n",
              "| 6 | 0.1641791 |\n",
              "\n"
            ],
            "text/plain": [
              "  replicate stat     \n",
              "1 1         0.1774194\n",
              "2 2         0.1940299\n",
              "3 3         0.1896552\n",
              "4 4         0.1093750\n",
              "5 5         0.1639344\n",
              "6 6         0.1641791"
            ]
          },
          "metadata": {},
          "output_type": "display_data"
        }
      ],
      "source": [
        "# set the seed to ensure that data is reproducible\n",
        "set.seed(69)\n",
        "\n",
        "# generating the bootstrapping distribution with reps = 1000\n",
        "bootstrap_distribution <- patients_dp |>\n",
        "                          specify(formula = Status ~ Ascites, success = \"D\") |>\n",
        "                          generate(reps = 1000, type = \"bootstrap\") |>\n",
        "                          calculate(stat=\"diff in props\", order = c(\"Y\", \"N\"))\n",
        "head(bootstrap_distribution)"
      ]
    },
    {
      "cell_type": "code",
      "execution_count": null,
      "id": "1NqOHT2VZp3_",
      "metadata": {
        "colab": {
          "base_uri": "https://localhost:8080/",
          "height": 129
        },
        "id": "1NqOHT2VZp3_",
        "outputId": "ea89b526-d779-4a40-8ff0-21be8df34e0c"
      },
      "outputs": [
        {
          "data": {
            "text/html": [
              "<table class=\"dataframe\">\n",
              "<caption>A tibble: 1 × 2</caption>\n",
              "<thead>\n",
              "\t<tr><th scope=col>lower_ci</th><th scope=col>upper_ci</th></tr>\n",
              "\t<tr><th scope=col>&lt;dbl&gt;</th><th scope=col>&lt;dbl&gt;</th></tr>\n",
              "</thead>\n",
              "<tbody>\n",
              "\t<tr><td>0.078125</td><td>0.2586769</td></tr>\n",
              "</tbody>\n",
              "</table>\n"
            ],
            "text/latex": [
              "A tibble: 1 × 2\n",
              "\\begin{tabular}{ll}\n",
              " lower\\_ci & upper\\_ci\\\\\n",
              " <dbl> & <dbl>\\\\\n",
              "\\hline\n",
              "\t 0.078125 & 0.2586769\\\\\n",
              "\\end{tabular}\n"
            ],
            "text/markdown": [
              "\n",
              "A tibble: 1 × 2\n",
              "\n",
              "| lower_ci &lt;dbl&gt; | upper_ci &lt;dbl&gt; |\n",
              "|---|---|\n",
              "| 0.078125 | 0.2586769 |\n",
              "\n"
            ],
            "text/plain": [
              "  lower_ci upper_ci \n",
              "1 0.078125 0.2586769"
            ]
          },
          "metadata": {},
          "output_type": "display_data"
        }
      ],
      "source": [
        "# generate the upper and lower confidence intervals with 95% confidence level\n",
        "percentile_ci <- bootstrap_distribution |>\n",
        "                 get_ci(level = 0.95, type = \"percentile\")\n",
        "percentile_ci"
      ]
    },
    {
      "cell_type": "code",
      "execution_count": null,
      "id": "BGyHP2YmZ-iu",
      "metadata": {
        "colab": {
          "base_uri": "https://localhost:8080/",
          "height": 497
        },
        "id": "BGyHP2YmZ-iu",
        "outputId": "08c162c9-4f6b-4d14-a836-0e10eb09514e"
      },
      "outputs": [
        {
          "data": {
            "image/png": "[encoded data removed]",
            "text/plain": [
              "plot without title"
            ]
          },
          "metadata": {
            "image/png": {
              "height": 480,
              "width": 600
            }
          },
          "output_type": "display_data"
        }
      ],
      "source": [
        "# set the size of the plot\n",
        "options(repr.plot.width = 10, repr.plot.height = 8)\n",
        "\n",
        "# visualizing the 95% confidence interval on bootstrap disribution\n",
        "visualize(bootstrap_distribution) +\n",
        "  shade_confidence_interval(endpoints = percentile_ci)"
      ]
    },
    {
      "cell_type": "markdown",
      "id": "tanTKYYMadXK",
      "metadata": {
        "id": "tanTKYYMadXK"
      },
      "source": [
        "\n",
        "\n",
        "\n",
        "\n",
        "*   From the above figure, we are 95% confident that the true difference in the population proportions $p_1 - p_2$ lies between 7.81% and 25.86%\n",
        "*   We can also deduce that our calculated p-value of 0.129 falls within the 95% confidence interval (0.0781, 0.2586), indicating that the disparity between $p_1$ and $p_2$ lacks statistical significance.\n"
      ]
    },
    {
      "cell_type": "markdown",
      "id": "chWwkv_Sca5D",
      "metadata": {
        "id": "chWwkv_Sca5D"
      },
      "source": [
        "### Standard Error Method\n",
        "\n",
        "\n",
        "*   Since the bootstrap distribution is roughly normally distributed, we can also compare it with the confidence interval generate from the standard error method.\n",
        "*   Here, we would use the ```get_ci``` function and set ```level = 0.95```,\n",
        "    ``` type = se``` and ```point_estimate = obs_diff_prop```.\n",
        "\n"
      ]
    },
    {
      "cell_type": "code",
      "execution_count": null,
      "id": "6XKfkIejdAgm",
      "metadata": {
        "colab": {
          "base_uri": "https://localhost:8080/",
          "height": 129
        },
        "id": "6XKfkIejdAgm",
        "outputId": "d724fc8d-aa71-4fd0-efd0-c155995d4f32"
      },
      "outputs": [
        {
          "data": {
            "text/html": [
              "<table class=\"dataframe\">\n",
              "<caption>A tibble: 1 × 2</caption>\n",
              "<thead>\n",
              "\t<tr><th scope=col>lower_ci</th><th scope=col>upper_ci</th></tr>\n",
              "\t<tr><th scope=col>&lt;dbl&gt;</th><th scope=col>&lt;dbl&gt;</th></tr>\n",
              "</thead>\n",
              "<tbody>\n",
              "\t<tr><td>0.07090481</td><td>0.2516758</td></tr>\n",
              "</tbody>\n",
              "</table>\n"
            ],
            "text/latex": [
              "A tibble: 1 × 2\n",
              "\\begin{tabular}{ll}\n",
              " lower\\_ci & upper\\_ci\\\\\n",
              " <dbl> & <dbl>\\\\\n",
              "\\hline\n",
              "\t 0.07090481 & 0.2516758\\\\\n",
              "\\end{tabular}\n"
            ],
            "text/markdown": [
              "\n",
              "A tibble: 1 × 2\n",
              "\n",
              "| lower_ci &lt;dbl&gt; | upper_ci &lt;dbl&gt; |\n",
              "|---|---|\n",
              "| 0.07090481 | 0.2516758 |\n",
              "\n"
            ],
            "text/plain": [
              "  lower_ci   upper_ci \n",
              "1 0.07090481 0.2516758"
            ]
          },
          "metadata": {},
          "output_type": "display_data"
        }
      ],
      "source": [
        "# generating 95% confidence level\n",
        "se_ci <- bootstrap_distribution |>\n",
        "         get_ci(level = 0.95, type = \"se\", point_estimate = obs_diff_prop)\n",
        "se_ci"
      ]
    },
    {
      "cell_type": "markdown",
      "id": "c3O7apcmdY89",
      "metadata": {
        "id": "c3O7apcmdY89"
      },
      "source": [
        "### Visualize using Standard Error Method\n",
        "\n",
        "\n",
        "*   Now, we'll visualize the bootstrap distribution again using the confidence interval we calculated using the standard error method.\n"
      ]
    },
    {
      "cell_type": "code",
      "execution_count": null,
      "id": "H8ioTEQ2dp6K",
      "metadata": {
        "colab": {
          "base_uri": "https://localhost:8080/",
          "height": 497
        },
        "id": "H8ioTEQ2dp6K",
        "outputId": "34182f6e-ff86-44b8-c11c-488d5930f8ed"
      },
      "outputs": [
        {
          "data": {
            "image/png": "[encoded data removed]",
            "text/plain": [
              "plot without title"
            ]
          },
          "metadata": {
            "image/png": {
              "height": 480,
              "width": 600
            }
          },
          "output_type": "display_data"
        }
      ],
      "source": [
        "# set the size of the plot\n",
        "options(repr.plot.width = 10, repr.plot.height = 8)\n",
        "\n",
        "# visualizing the 95% confidence interval on bootstrap disribution\n",
        "visualize(bootstrap_distribution) +\n",
        "  shade_confidence_interval(endpoints = se_ci)"
      ]
    },
    {
      "cell_type": "markdown",
      "id": "MqZjbmyWdzBK",
      "metadata": {
        "id": "MqZjbmyWdzBK"
      },
      "source": [
        "\n",
        "\n",
        "*   Again, here we notice that the p-value of 0.129 is included in the confidence interval which shows that difference between $p_1$ and $p_2$ is not statistically significant.\n",
        "\n"
      ]
    },
    {
      "cell_type": "markdown",
      "id": "JYsSmx5afPCp",
      "metadata": {
        "id": "JYsSmx5afPCp"
      },
      "source": [
        "### Two Sample Z-test: Comparing the proportions of two independent populations using asymptotics\n",
        "\n",
        "Here, we'll consider the following case:\n",
        "\n",
        "*   $H_0: p_1 - p_2 = 0$ vs $H_1: p_1 - p_2 \\neq 0$\n",
        "\n",
        "to test $H_0$, we will use the following test statistic:\n",
        "$$Z = \\frac {\\hat{p_1} - \\hat{p_2}}{\\sqrt{\\hat{p}(1-\\hat{p})(\\frac{1}{n_1} + \\frac{1}{n_2})}}$$\n",
        "\n",
        "Pooled proportion is given by,\n",
        "$$\\hat{p} = \\frac{n_1\\hat{p_1}  + n_2\\hat{p_2}}{n_1 + n_2}$$"
      ]
    },
    {
      "cell_type": "code",
      "execution_count": null,
      "id": "UwTCEI-kg-O7",
      "metadata": {
        "colab": {
          "base_uri": "https://localhost:8080/",
          "height": 289
        },
        "id": "UwTCEI-kg-O7",
        "outputId": "887a48a2-4652-4e48-ecb9-f5cdd02904ff"
      },
      "outputs": [
        {
          "name": "stderr",
          "output_type": "stream",
          "text": [
            "Warning message in prop.test(x = c(sum(sample_1$Status == \"D\"), sum(sample_2$Status == :\n",
            "“Chi-squared approximation may be incorrect”\n"
          ]
        },
        {
          "data": {
            "text/html": [
              "<table class=\"dataframe\">\n",
              "<caption>A tibble: 1 × 9</caption>\n",
              "<thead>\n",
              "\t<tr><th scope=col>estimate1</th><th scope=col>estimate2</th><th scope=col>statistic</th><th scope=col>p.value</th><th scope=col>parameter</th><th scope=col>conf.low</th><th scope=col>conf.high</th><th scope=col>method</th><th scope=col>alternative</th></tr>\n",
              "\t<tr><th scope=col>&lt;dbl&gt;</th><th scope=col>&lt;dbl&gt;</th><th scope=col>&lt;dbl&gt;</th><th scope=col>&lt;dbl&gt;</th><th scope=col>&lt;dbl&gt;</th><th scope=col>&lt;dbl&gt;</th><th scope=col>&lt;dbl&gt;</th><th scope=col>&lt;chr&gt;</th><th scope=col>&lt;chr&gt;</th></tr>\n",
              "</thead>\n",
              "<tbody>\n",
              "\t<tr><td>1</td><td>0.8387097</td><td>2.419355</td><td>0.1198443</td><td>1</td><td>0.0697395</td><td>0.2528411</td><td>2-sample test for equality of proportions without continuity correction</td><td>two.sided</td></tr>\n",
              "</tbody>\n",
              "</table>\n"
            ],
            "text/latex": [
              "A tibble: 1 × 9\n",
              "\\begin{tabular}{lllllllll}\n",
              " estimate1 & estimate2 & statistic & p.value & parameter & conf.low & conf.high & method & alternative\\\\\n",
              " <dbl> & <dbl> & <dbl> & <dbl> & <dbl> & <dbl> & <dbl> & <chr> & <chr>\\\\\n",
              "\\hline\n",
              "\t 1 & 0.8387097 & 2.419355 & 0.1198443 & 1 & 0.0697395 & 0.2528411 & 2-sample test for equality of proportions without continuity correction & two.sided\\\\\n",
              "\\end{tabular}\n"
            ],
            "text/markdown": [
              "\n",
              "A tibble: 1 × 9\n",
              "\n",
              "| estimate1 &lt;dbl&gt; | estimate2 &lt;dbl&gt; | statistic &lt;dbl&gt; | p.value &lt;dbl&gt; | parameter &lt;dbl&gt; | conf.low &lt;dbl&gt; | conf.high &lt;dbl&gt; | method &lt;chr&gt; | alternative &lt;chr&gt; |\n",
              "|---|---|---|---|---|---|---|---|---|\n",
              "| 1 | 0.8387097 | 2.419355 | 0.1198443 | 1 | 0.0697395 | 0.2528411 | 2-sample test for equality of proportions without continuity correction | two.sided |\n",
              "\n"
            ],
            "text/plain": [
              "  estimate1 estimate2 statistic p.value   parameter conf.low  conf.high\n",
              "1 1         0.8387097 2.419355  0.1198443 1         0.0697395 0.2528411\n",
              "  method                                                                 \n",
              "1 2-sample test for equality of proportions without continuity correction\n",
              "  alternative\n",
              "1 two.sided  "
            ]
          },
          "metadata": {},
          "output_type": "display_data"
        }
      ],
      "source": [
        "# create a variable for patients with Ascites\n",
        "sample_1 <- patients_dp |>\n",
        "            filter(Ascites == \"Y\")\n",
        "\n",
        "# create a variable for patients without Ascites\n",
        "sample_2 <- patients_dp |>\n",
        "            filter(Ascites == \"N\")\n",
        "\n",
        "# Using R's prop.test() function to calculate the p-value given by Z-test\n",
        "# also using broom:tidy() to make the result presentable\n",
        "\n",
        "stats <- tidy(prop.test(x = c(sum(sample_1$Status == \"D\"),\n",
        "                              sum(sample_2$Status == \"D\")),\n",
        "                              n = c(nrow(sample_1), nrow(sample_2)),\n",
        "                              alternative = \"two.sided\",\n",
        "                              correct = F))\n",
        "stats"
      ]
    },
    {
      "cell_type": "markdown",
      "id": "A-PDAPNIi3S5",
      "metadata": {
        "id": "A-PDAPNIi3S5"
      },
      "source": [
        "\n",
        "\n",
        "*   In the above code snippet, we calculated the ```p-value```, ```conf.low``` and ```conf.high``` using prop.test() function in R. We used a 2-sample Z-test for comparing the proportions.\n",
        "*   We found the p-value of 0.1198, which is higher than our significance level of 0.05.\n",
        "*  Due to this, we shall not reject the null hypothesis at a 5% significance level.\n",
        "\n"
      ]
    },
    {
      "cell_type": "markdown",
      "id": "509b1f44-54e0-423e-9b67-8e78e2a35af9",
      "metadata": {
        "id": "509b1f44-54e0-423e-9b67-8e78e2a35af9"
      },
      "source": [
        "## References\n"
      ]
    },
    {
      "cell_type": "markdown",
      "id": "e1e12640-7fbe-49f5-ae73-4b23d3c9ebd8",
      "metadata": {
        "id": "e1e12640-7fbe-49f5-ae73-4b23d3c9ebd8"
      },
      "source": [
        "Prince, M., Chetwynd, A., Newman, W., Metcalf, J. V., &amp; James, O. F. W. (2002). Survival and symptom progression in a geographically based cohort of patients with primary biliary cirrhosis: Follow-up for up to 28 years. Gastroenterology, 123(4), 1044–1051. __https://doi.org/10.1053/gast.2002.36027__\n",
        "\n",
        "Purohit, T. (2015). Primary biliary cirrhosis: Pathophysiology, clinical presentation and therapy. World Journal of Hepatology, 7(7), 926. __https://doi.org/10.4254/wjh.v7.i7.926__\n",
        "\n",
        "Dickson,E., Grambsch,P., Fleming,T., Fisher,L., and Langworthy,A.. (2023). Cirrhosis Patient Survival Prediction. UCI Machine Learning Repository. __https://doi.org/10.24432/C5R02G.__"
      ]
    }
  ],
  "metadata": {
    "colab": {
      "provenance": []
    },
    "kernelspec": {
      "display_name": "R",
      "language": "R",
      "name": "ir"
    },
    "language_info": {
      "codemirror_mode": "r",
      "file_extension": ".r",
      "mimetype": "text/x-r-source",
      "name": "R",
      "pygments_lexer": "r",
      "version": "4.2.2"
    }
  },
  "nbformat": 4,
  "nbformat_minor": 5
}