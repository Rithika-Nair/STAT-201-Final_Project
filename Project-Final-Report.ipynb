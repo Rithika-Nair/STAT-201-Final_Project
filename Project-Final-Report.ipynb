{
  "cells": [
    {
      "cell_type": "markdown",
      "id": "e9656b57-fbf4-4aaa-a131-f2f2006a58be",
      "metadata": {
        "id": "e9656b57-fbf4-4aaa-a131-f2f2006a58be"
      },
      "source": [
        "# Analyzing the Impact of Ascites and D-Penicillamine on Mortality in Primary Biliary Cirrhosis Patients: A Statistical Inference Study\n",
        "#### Authors: Hrishi Logani, Rithika Nair, Yuxi Zhang, Yuexiang Ni (Group 43)"
      ]
    },
    {
      "cell_type": "markdown",
      "id": "83527891-e9bd-4b2e-b749-2f1d4c0caae1",
      "metadata": {
        "id": "83527891-e9bd-4b2e-b749-2f1d4c0caae1"
      },
      "source": [
        "## 1. Introduction"
      ]
    },
    {
      "cell_type": "markdown",
      "id": "6d0a2c47-6444-40fe-8fb0-a09e70c3527f",
      "metadata": {
        "id": "6d0a2c47-6444-40fe-8fb0-a09e70c3527f"
      },
      "source": [
        "Primary biliary cirrhosis (PBC) is a chronic condition characterized by gradual damage and deterioration of the liver's bile ducts, leading to substantial liver-related health challenges. PBC stands as a prominent contributor to liver-related illnesses and fatalities. The prognosis of PBC is influenced by multiple factors critical to effective treatment (Prince et al., 2002). Notably, advanced PBC often manifests the complication of ascites, characterized by an accumulation of fluid in the abdominal cavity (Purohit, 2015). This project endeavors to examine how ascites impacts the prognosis of patients receiving D-penicillamine. It's worth noting that the effectiveness of D-penicillamine remains uncertain (Purohit, 2015). We chose to analyze this to improve patient treatment insights. Thus, we are asking the following question:\n",
        "\n",
        "#### For Primary Biliary Cirrhosis patients administered with D-Penicillamine, does the presence of Ascites determine their mortality?\n",
        "\n",
        "To investigate this, we shall analyze the difference in mortality rate based on the following categorical variables and the scale parameter will be a standard error of proportions.\n",
        "\n",
        "* Type of treatment (D-penicillamine or Placebo)\n",
        "* Presence of Ascites\n",
        "\n",
        "The analysis will focus on comparing proportions, as both \"Drug\" type and \"Ascites\" presence have only two discrete outcomes. Standard error will be used to quantify the statistic's variation from the population proportion. This project seeks to provide insights into the impact of \"Ascites\" on the prognosis of PBC patients treated with \"D-penicillamine,\" using a comprehensive dataset for a thorough investigation.\n",
        "\n",
        "The dataset used is the __[Cirrhosis Patient Survival Prediction](https://archive.ics.uci.edu/dataset/878/cirrhosis+patient+survival+prediction+dataset-1)__ dataset from the UCI Machine Learning Repository, containing information on 418 PBC patients. Each patient's data includes unique identifiers (\"ID\"), days between registration (\"N_Days\"), patient status (\"Status\"), drug type (\"Drug\"), age (\"Age\"), sex (\"Sex\"), and various clinical parameters."
      ]
    },
    {
      "cell_type": "markdown",
      "id": "Ylv7bYTLUwe8",
      "metadata": {
        "id": "Ylv7bYTLUwe8"
      },
      "source": [
        "## 2. Methods & Results"
      ]
    },
    {
      "cell_type": "markdown",
      "id": "6f7be9c0-afb4-466c-a657-e05a95e915b9",
      "metadata": {
        "id": "6f7be9c0-afb4-466c-a657-e05a95e915b9"
      },
      "source": [
        "### Loading Necessary Libraries"
      ]
    },
    {
      "cell_type": "code",
      "execution_count": 1,
      "id": "a177901e-04ae-448f-9b48-faad9b98056c",
      "metadata": {
        "colab": {
          "base_uri": "https://localhost:8080/"
        },
        "id": "a177901e-04ae-448f-9b48-faad9b98056c",
        "outputId": "4c14d054-953b-4fd2-b87e-980bec3986b4"
      },
      "outputs": [
        {
          "output_type": "stream",
          "name": "stderr",
          "text": [
            "Installing package into ‘/usr/local/lib/R/site-library’\n",
            "(as ‘lib’ is unspecified)\n",
            "\n",
            "also installing the dependency ‘patchwork’\n",
            "\n",
            "\n",
            "Installing package into ‘/usr/local/lib/R/site-library’\n",
            "(as ‘lib’ is unspecified)\n",
            "\n",
            "── \u001b[1mAttaching core tidyverse packages\u001b[22m ──────────────────────── tidyverse 2.0.0 ──\n",
            "\u001b[32m✔\u001b[39m \u001b[34mdplyr    \u001b[39m 1.1.4     \u001b[32m✔\u001b[39m \u001b[34mreadr    \u001b[39m 2.1.4\n",
            "\u001b[32m✔\u001b[39m \u001b[34mforcats  \u001b[39m 1.0.0     \u001b[32m✔\u001b[39m \u001b[34mstringr  \u001b[39m 1.5.1\n",
            "\u001b[32m✔\u001b[39m \u001b[34mggplot2  \u001b[39m 3.4.4     \u001b[32m✔\u001b[39m \u001b[34mtibble   \u001b[39m 3.2.1\n",
            "\u001b[32m✔\u001b[39m \u001b[34mlubridate\u001b[39m 1.9.3     \u001b[32m✔\u001b[39m \u001b[34mtidyr    \u001b[39m 1.3.0\n",
            "\u001b[32m✔\u001b[39m \u001b[34mpurrr    \u001b[39m 1.0.2     \n",
            "── \u001b[1mConflicts\u001b[22m ────────────────────────────────────────── tidyverse_conflicts() ──\n",
            "\u001b[31m✖\u001b[39m \u001b[34mdplyr\u001b[39m::\u001b[32mfilter()\u001b[39m masks \u001b[34mstats\u001b[39m::filter()\n",
            "\u001b[31m✖\u001b[39m \u001b[34mdplyr\u001b[39m::\u001b[32mlag()\u001b[39m    masks \u001b[34mstats\u001b[39m::lag()\n",
            "\u001b[36mℹ\u001b[39m Use the conflicted package (\u001b[3m\u001b[34m<http://conflicted.r-lib.org/>\u001b[39m\u001b[23m) to force all conflicts to become errors\n",
            "\n",
            "Attaching package: ‘gridExtra’\n",
            "\n",
            "\n",
            "The following object is masked from ‘package:dplyr’:\n",
            "\n",
            "    combine\n",
            "\n",
            "\n"
          ]
        }
      ],
      "source": [
        "install.packages(\"infer\")\n",
        "install.packages(\"gridExtra\")\n",
        "\n",
        "library(tidyverse)\n",
        "library(broom)\n",
        "library(repr)\n",
        "library(digest)\n",
        "library(infer)\n",
        "library(gridExtra)"
      ]
    },
    {
      "cell_type": "markdown",
      "id": "01ddd584-ec3c-4dfd-aaa3-11552466b61e",
      "metadata": {
        "id": "01ddd584-ec3c-4dfd-aaa3-11552466b61e"
      },
      "source": [
        "### Downloading Dataset from the Web"
      ]
    },
    {
      "cell_type": "markdown",
      "id": "73b8908e-7867-4358-8744-1b24588a5290",
      "metadata": {
        "id": "73b8908e-7867-4358-8744-1b24588a5290"
      },
      "source": [
        "* Downloading the dataset that is stored in a public repository."
      ]
    },
    {
      "cell_type": "code",
      "execution_count": 2,
      "id": "399a1163-a952-441b-b5a5-26d71f2ffb69",
      "metadata": {
        "colab": {
          "base_uri": "https://localhost:8080/",
          "height": 376
        },
        "id": "399a1163-a952-441b-b5a5-26d71f2ffb69",
        "outputId": "3a3fe948-9c7b-4e20-b68d-f207a2971c0c"
      },
      "outputs": [
        {
          "output_type": "display_data",
          "data": {
            "text/html": [
              "<table class=\"dataframe\">\n",
              "<caption>A data.frame: 6 × 20</caption>\n",
              "<thead>\n",
              "\t<tr><th></th><th scope=col>ID</th><th scope=col>N_Days</th><th scope=col>Status</th><th scope=col>Drug</th><th scope=col>Age</th><th scope=col>Sex</th><th scope=col>Ascites</th><th scope=col>Hepatomegaly</th><th scope=col>Spiders</th><th scope=col>Edema</th><th scope=col>Bilirubin</th><th scope=col>Cholesterol</th><th scope=col>Albumin</th><th scope=col>Copper</th><th scope=col>Alk_Phos</th><th scope=col>SGOT</th><th scope=col>Tryglicerides</th><th scope=col>Platelets</th><th scope=col>Prothrombin</th><th scope=col>Stage</th></tr>\n",
              "\t<tr><th></th><th scope=col>&lt;int&gt;</th><th scope=col>&lt;int&gt;</th><th scope=col>&lt;chr&gt;</th><th scope=col>&lt;chr&gt;</th><th scope=col>&lt;int&gt;</th><th scope=col>&lt;chr&gt;</th><th scope=col>&lt;chr&gt;</th><th scope=col>&lt;chr&gt;</th><th scope=col>&lt;chr&gt;</th><th scope=col>&lt;chr&gt;</th><th scope=col>&lt;dbl&gt;</th><th scope=col>&lt;int&gt;</th><th scope=col>&lt;dbl&gt;</th><th scope=col>&lt;int&gt;</th><th scope=col>&lt;dbl&gt;</th><th scope=col>&lt;dbl&gt;</th><th scope=col>&lt;int&gt;</th><th scope=col>&lt;int&gt;</th><th scope=col>&lt;dbl&gt;</th><th scope=col>&lt;int&gt;</th></tr>\n",
              "</thead>\n",
              "<tbody>\n",
              "\t<tr><th scope=row>1</th><td>1</td><td> 400</td><td>D </td><td>D-penicillamine</td><td>21464</td><td>F</td><td>Y</td><td>Y</td><td>Y</td><td>Y</td><td>14.5</td><td>261</td><td>2.60</td><td>156</td><td>1718.0</td><td>137.95</td><td>172</td><td>190</td><td>12.2</td><td>4</td></tr>\n",
              "\t<tr><th scope=row>2</th><td>2</td><td>4500</td><td>C </td><td>D-penicillamine</td><td>20617</td><td>F</td><td>N</td><td>Y</td><td>Y</td><td>N</td><td> 1.1</td><td>302</td><td>4.14</td><td> 54</td><td>7394.8</td><td>113.52</td><td> 88</td><td>221</td><td>10.6</td><td>3</td></tr>\n",
              "\t<tr><th scope=row>3</th><td>3</td><td>1012</td><td>D </td><td>D-penicillamine</td><td>25594</td><td>M</td><td>N</td><td>N</td><td>N</td><td>S</td><td> 1.4</td><td>176</td><td>3.48</td><td>210</td><td> 516.0</td><td> 96.10</td><td> 55</td><td>151</td><td>12.0</td><td>4</td></tr>\n",
              "\t<tr><th scope=row>4</th><td>4</td><td>1925</td><td>D </td><td>D-penicillamine</td><td>19994</td><td>F</td><td>N</td><td>Y</td><td>Y</td><td>S</td><td> 1.8</td><td>244</td><td>2.54</td><td> 64</td><td>6121.8</td><td> 60.63</td><td> 92</td><td>183</td><td>10.3</td><td>4</td></tr>\n",
              "\t<tr><th scope=row>5</th><td>5</td><td>1504</td><td>CL</td><td>Placebo        </td><td>13918</td><td>F</td><td>N</td><td>Y</td><td>Y</td><td>N</td><td> 3.4</td><td>279</td><td>3.53</td><td>143</td><td> 671.0</td><td>113.15</td><td> 72</td><td>136</td><td>10.9</td><td>3</td></tr>\n",
              "\t<tr><th scope=row>6</th><td>6</td><td>2503</td><td>D </td><td>Placebo        </td><td>24201</td><td>F</td><td>N</td><td>Y</td><td>N</td><td>N</td><td> 0.8</td><td>248</td><td>3.98</td><td> 50</td><td> 944.0</td><td> 93.00</td><td> 63</td><td> NA</td><td>11.0</td><td>3</td></tr>\n",
              "</tbody>\n",
              "</table>\n"
            ],
            "text/markdown": "\nA data.frame: 6 × 20\n\n| <!--/--> | ID &lt;int&gt; | N_Days &lt;int&gt; | Status &lt;chr&gt; | Drug &lt;chr&gt; | Age &lt;int&gt; | Sex &lt;chr&gt; | Ascites &lt;chr&gt; | Hepatomegaly &lt;chr&gt; | Spiders &lt;chr&gt; | Edema &lt;chr&gt; | Bilirubin &lt;dbl&gt; | Cholesterol &lt;int&gt; | Albumin &lt;dbl&gt; | Copper &lt;int&gt; | Alk_Phos &lt;dbl&gt; | SGOT &lt;dbl&gt; | Tryglicerides &lt;int&gt; | Platelets &lt;int&gt; | Prothrombin &lt;dbl&gt; | Stage &lt;int&gt; |\n|---|---|---|---|---|---|---|---|---|---|---|---|---|---|---|---|---|---|---|---|---|\n| 1 | 1 |  400 | D  | D-penicillamine | 21464 | F | Y | Y | Y | Y | 14.5 | 261 | 2.60 | 156 | 1718.0 | 137.95 | 172 | 190 | 12.2 | 4 |\n| 2 | 2 | 4500 | C  | D-penicillamine | 20617 | F | N | Y | Y | N |  1.1 | 302 | 4.14 |  54 | 7394.8 | 113.52 |  88 | 221 | 10.6 | 3 |\n| 3 | 3 | 1012 | D  | D-penicillamine | 25594 | M | N | N | N | S |  1.4 | 176 | 3.48 | 210 |  516.0 |  96.10 |  55 | 151 | 12.0 | 4 |\n| 4 | 4 | 1925 | D  | D-penicillamine | 19994 | F | N | Y | Y | S |  1.8 | 244 | 2.54 |  64 | 6121.8 |  60.63 |  92 | 183 | 10.3 | 4 |\n| 5 | 5 | 1504 | CL | Placebo         | 13918 | F | N | Y | Y | N |  3.4 | 279 | 3.53 | 143 |  671.0 | 113.15 |  72 | 136 | 10.9 | 3 |\n| 6 | 6 | 2503 | D  | Placebo         | 24201 | F | N | Y | N | N |  0.8 | 248 | 3.98 |  50 |  944.0 |  93.00 |  63 |  NA | 11.0 | 3 |\n\n",
            "text/latex": "A data.frame: 6 × 20\n\\begin{tabular}{r|llllllllllllllllllll}\n  & ID & N\\_Days & Status & Drug & Age & Sex & Ascites & Hepatomegaly & Spiders & Edema & Bilirubin & Cholesterol & Albumin & Copper & Alk\\_Phos & SGOT & Tryglicerides & Platelets & Prothrombin & Stage\\\\\n  & <int> & <int> & <chr> & <chr> & <int> & <chr> & <chr> & <chr> & <chr> & <chr> & <dbl> & <int> & <dbl> & <int> & <dbl> & <dbl> & <int> & <int> & <dbl> & <int>\\\\\n\\hline\n\t1 & 1 &  400 & D  & D-penicillamine & 21464 & F & Y & Y & Y & Y & 14.5 & 261 & 2.60 & 156 & 1718.0 & 137.95 & 172 & 190 & 12.2 & 4\\\\\n\t2 & 2 & 4500 & C  & D-penicillamine & 20617 & F & N & Y & Y & N &  1.1 & 302 & 4.14 &  54 & 7394.8 & 113.52 &  88 & 221 & 10.6 & 3\\\\\n\t3 & 3 & 1012 & D  & D-penicillamine & 25594 & M & N & N & N & S &  1.4 & 176 & 3.48 & 210 &  516.0 &  96.10 &  55 & 151 & 12.0 & 4\\\\\n\t4 & 4 & 1925 & D  & D-penicillamine & 19994 & F & N & Y & Y & S &  1.8 & 244 & 2.54 &  64 & 6121.8 &  60.63 &  92 & 183 & 10.3 & 4\\\\\n\t5 & 5 & 1504 & CL & Placebo         & 13918 & F & N & Y & Y & N &  3.4 & 279 & 3.53 & 143 &  671.0 & 113.15 &  72 & 136 & 10.9 & 3\\\\\n\t6 & 6 & 2503 & D  & Placebo         & 24201 & F & N & Y & N & N &  0.8 & 248 & 3.98 &  50 &  944.0 &  93.00 &  63 &  NA & 11.0 & 3\\\\\n\\end{tabular}\n",
            "text/plain": [
              "  ID N_Days Status Drug            Age   Sex Ascites Hepatomegaly Spiders Edema\n",
              "1 1   400   D      D-penicillamine 21464 F   Y       Y            Y       Y    \n",
              "2 2  4500   C      D-penicillamine 20617 F   N       Y            Y       N    \n",
              "3 3  1012   D      D-penicillamine 25594 M   N       N            N       S    \n",
              "4 4  1925   D      D-penicillamine 19994 F   N       Y            Y       S    \n",
              "5 5  1504   CL     Placebo         13918 F   N       Y            Y       N    \n",
              "6 6  2503   D      Placebo         24201 F   N       Y            N       N    \n",
              "  Bilirubin Cholesterol Albumin Copper Alk_Phos SGOT   Tryglicerides Platelets\n",
              "1 14.5      261         2.60    156    1718.0   137.95 172           190      \n",
              "2  1.1      302         4.14     54    7394.8   113.52  88           221      \n",
              "3  1.4      176         3.48    210     516.0    96.10  55           151      \n",
              "4  1.8      244         2.54     64    6121.8    60.63  92           183      \n",
              "5  3.4      279         3.53    143     671.0   113.15  72           136      \n",
              "6  0.8      248         3.98     50     944.0    93.00  63            NA      \n",
              "  Prothrombin Stage\n",
              "1 12.2        4    \n",
              "2 10.6        3    \n",
              "3 12.0        4    \n",
              "4 10.3        4    \n",
              "5 10.9        3    \n",
              "6 11.0        3    "
            ]
          },
          "metadata": {}
        }
      ],
      "source": [
        "# URL containing the dataset\n",
        "url <- \"https://raw.githubusercontent.com/Rithika-Nair/STAT-201-Final_Project/main/cirrhosis.csv\"\n",
        "\n",
        "# Download cirrhosis.csv from the url\n",
        "download.file(url, \"cirrhosis.csv\")\n",
        "\n",
        "# Store the dataset into variable\n",
        "cirr_data <- read.csv(\"cirrhosis.csv\")\n",
        "\n",
        "# Display the first few rows of the dataset\n",
        "head(cirr_data)"
      ]
    },
    {
      "cell_type": "markdown",
      "source": [
        "    Table 1: Cirrhosis Dataset"
      ],
      "metadata": {
        "id": "_wmS-HN6cRtb"
      },
      "id": "_wmS-HN6cRtb"
    },
    {
      "cell_type": "markdown",
      "id": "3115bef7-fe87-41e2-b1c3-83769486fef1",
      "metadata": {
        "id": "3115bef7-fe87-41e2-b1c3-83769486fef1"
      },
      "source": [
        "### Data Cleaning and Preprocessing"
      ]
    },
    {
      "cell_type": "markdown",
      "id": "a88844e6-4d1a-4782-90de-c12419673715",
      "metadata": {
        "id": "a88844e6-4d1a-4782-90de-c12419673715"
      },
      "source": [
        "* Selecting columns relevant to our analysis: `Status`, `Drug`, `Ascites`."
      ]
    },
    {
      "cell_type": "code",
      "execution_count": 3,
      "id": "b5a698c5-9adc-46b3-bd19-131ca71f930b",
      "metadata": {
        "colab": {
          "base_uri": "https://localhost:8080/",
          "height": 286
        },
        "id": "b5a698c5-9adc-46b3-bd19-131ca71f930b",
        "outputId": "581ab4d3-2012-4f31-d1f7-08e741e33ab8"
      },
      "outputs": [
        {
          "output_type": "display_data",
          "data": {
            "text/html": [
              "<table class=\"dataframe\">\n",
              "<caption>A data.frame: 6 × 3</caption>\n",
              "<thead>\n",
              "\t<tr><th></th><th scope=col>Status</th><th scope=col>Drug</th><th scope=col>Ascites</th></tr>\n",
              "\t<tr><th></th><th scope=col>&lt;chr&gt;</th><th scope=col>&lt;chr&gt;</th><th scope=col>&lt;chr&gt;</th></tr>\n",
              "</thead>\n",
              "<tbody>\n",
              "\t<tr><th scope=row>1</th><td>D </td><td>D-penicillamine</td><td>Y</td></tr>\n",
              "\t<tr><th scope=row>2</th><td>C </td><td>D-penicillamine</td><td>N</td></tr>\n",
              "\t<tr><th scope=row>3</th><td>D </td><td>D-penicillamine</td><td>N</td></tr>\n",
              "\t<tr><th scope=row>4</th><td>D </td><td>D-penicillamine</td><td>N</td></tr>\n",
              "\t<tr><th scope=row>5</th><td>CL</td><td>Placebo        </td><td>N</td></tr>\n",
              "\t<tr><th scope=row>6</th><td>D </td><td>Placebo        </td><td>N</td></tr>\n",
              "</tbody>\n",
              "</table>\n"
            ],
            "text/markdown": "\nA data.frame: 6 × 3\n\n| <!--/--> | Status &lt;chr&gt; | Drug &lt;chr&gt; | Ascites &lt;chr&gt; |\n|---|---|---|---|\n| 1 | D  | D-penicillamine | Y |\n| 2 | C  | D-penicillamine | N |\n| 3 | D  | D-penicillamine | N |\n| 4 | D  | D-penicillamine | N |\n| 5 | CL | Placebo         | N |\n| 6 | D  | Placebo         | N |\n\n",
            "text/latex": "A data.frame: 6 × 3\n\\begin{tabular}{r|lll}\n  & Status & Drug & Ascites\\\\\n  & <chr> & <chr> & <chr>\\\\\n\\hline\n\t1 & D  & D-penicillamine & Y\\\\\n\t2 & C  & D-penicillamine & N\\\\\n\t3 & D  & D-penicillamine & N\\\\\n\t4 & D  & D-penicillamine & N\\\\\n\t5 & CL & Placebo         & N\\\\\n\t6 & D  & Placebo         & N\\\\\n\\end{tabular}\n",
            "text/plain": [
              "  Status Drug            Ascites\n",
              "1 D      D-penicillamine Y      \n",
              "2 C      D-penicillamine N      \n",
              "3 D      D-penicillamine N      \n",
              "4 D      D-penicillamine N      \n",
              "5 CL     Placebo         N      \n",
              "6 D      Placebo         N      "
            ]
          },
          "metadata": {}
        }
      ],
      "source": [
        "cirrhosis <- cirr_data %>%\n",
        "        select(Status, Drug, Ascites)\n",
        "\n",
        "head(cirrhosis)"
      ]
    },
    {
      "cell_type": "markdown",
      "source": [
        "    Table 2: Cirrhosis Dataset with Variables of Interest"
      ],
      "metadata": {
        "id": "TozbBSRCcY0U"
      },
      "id": "TozbBSRCcY0U"
    },
    {
      "cell_type": "markdown",
      "id": "1d365a80-cf35-4e5f-8fef-e20c6a3dc8d0",
      "metadata": {
        "id": "1d365a80-cf35-4e5f-8fef-e20c6a3dc8d0"
      },
      "source": [
        "* Checking for missing values in each of the columns and removing the rows that contain missing values."
      ]
    },
    {
      "cell_type": "code",
      "execution_count": 4,
      "id": "f085b3e2-d0b3-4dfb-82b7-9f131d02954c",
      "metadata": {
        "colab": {
          "base_uri": "https://localhost:8080/"
        },
        "id": "f085b3e2-d0b3-4dfb-82b7-9f131d02954c",
        "outputId": "6b474cc0-73f8-4404-f3e3-a94a32ef5fe6"
      },
      "outputs": [
        {
          "output_type": "stream",
          "name": "stdout",
          "text": [
            "[1] 0\n",
            "[1] 106\n",
            "[1] 106\n"
          ]
        }
      ],
      "source": [
        "# Printing the number of missing values in each column\n",
        "print(sum(is.na(cirrhosis$Status)))\n",
        "print(sum(is.na(cirrhosis$Drug)))\n",
        "print(sum(is.na(cirrhosis$Ascites)))"
      ]
    },
    {
      "cell_type": "code",
      "execution_count": 5,
      "id": "1dd5a118-8851-483b-8c06-7d0daa2c7121",
      "metadata": {
        "colab": {
          "base_uri": "https://localhost:8080/",
          "height": 304
        },
        "id": "1dd5a118-8851-483b-8c06-7d0daa2c7121",
        "outputId": "59469ad8-b85e-4114-d101-884600d4fefb"
      },
      "outputs": [
        {
          "output_type": "display_data",
          "data": {
            "text/html": [
              "<table class=\"dataframe\">\n",
              "<caption>A data.frame: 6 × 3</caption>\n",
              "<thead>\n",
              "\t<tr><th></th><th scope=col>Status</th><th scope=col>Drug</th><th scope=col>Ascites</th></tr>\n",
              "\t<tr><th></th><th scope=col>&lt;chr&gt;</th><th scope=col>&lt;chr&gt;</th><th scope=col>&lt;chr&gt;</th></tr>\n",
              "</thead>\n",
              "<tbody>\n",
              "\t<tr><th scope=row>1</th><td>D </td><td>D-penicillamine</td><td>Y</td></tr>\n",
              "\t<tr><th scope=row>2</th><td>D </td><td>D-penicillamine</td><td>N</td></tr>\n",
              "\t<tr><th scope=row>3</th><td>D </td><td>D-penicillamine</td><td>N</td></tr>\n",
              "\t<tr><th scope=row>4</th><td>CL</td><td>Placebo        </td><td>N</td></tr>\n",
              "\t<tr><th scope=row>5</th><td>D </td><td>Placebo        </td><td>N</td></tr>\n",
              "\t<tr><th scope=row>6</th><td>D </td><td>Placebo        </td><td>N</td></tr>\n",
              "</tbody>\n",
              "</table>\n"
            ],
            "text/markdown": "\nA data.frame: 6 × 3\n\n| <!--/--> | Status &lt;chr&gt; | Drug &lt;chr&gt; | Ascites &lt;chr&gt; |\n|---|---|---|---|\n| 1 | D  | D-penicillamine | Y |\n| 2 | D  | D-penicillamine | N |\n| 3 | D  | D-penicillamine | N |\n| 4 | CL | Placebo         | N |\n| 5 | D  | Placebo         | N |\n| 6 | D  | Placebo         | N |\n\n",
            "text/latex": "A data.frame: 6 × 3\n\\begin{tabular}{r|lll}\n  & Status & Drug & Ascites\\\\\n  & <chr> & <chr> & <chr>\\\\\n\\hline\n\t1 & D  & D-penicillamine & Y\\\\\n\t2 & D  & D-penicillamine & N\\\\\n\t3 & D  & D-penicillamine & N\\\\\n\t4 & CL & Placebo         & N\\\\\n\t5 & D  & Placebo         & N\\\\\n\t6 & D  & Placebo         & N\\\\\n\\end{tabular}\n",
            "text/plain": [
              "  Status Drug            Ascites\n",
              "1 D      D-penicillamine Y      \n",
              "2 D      D-penicillamine N      \n",
              "3 D      D-penicillamine N      \n",
              "4 CL     Placebo         N      \n",
              "5 D      Placebo         N      \n",
              "6 D      Placebo         N      "
            ]
          },
          "metadata": {}
        },
        {
          "output_type": "display_data",
          "data": {
            "text/html": [
              "144"
            ],
            "text/markdown": "144",
            "text/latex": "144",
            "text/plain": [
              "[1] 144"
            ]
          },
          "metadata": {}
        }
      ],
      "source": [
        "# Filtering out the rows containing NA values in either Drug or Ascites columns\n",
        "cirrhosis_filtered <- cirrhosis %>%\n",
        "        filter(!is.na(Drug)) %>%\n",
        "        filter(!is.na(Ascites)) %>%\n",
        "        filter(Status %in% c(\"CL\", \"D\"))\n",
        "\n",
        "head(cirrhosis_filtered)\n",
        "nrow(cirrhosis_filtered)"
      ]
    },
    {
      "cell_type": "markdown",
      "source": [
        "    Table 3: Refined Cirrhosis Dataset with Variables of Interest"
      ],
      "metadata": {
        "id": "jLPLeWXTcjL5"
      },
      "id": "jLPLeWXTcjL5"
    },
    {
      "cell_type": "markdown",
      "id": "f3gZXd7eAi9W",
      "metadata": {
        "id": "f3gZXd7eAi9W"
      },
      "source": [
        "### Exploratory data analysis\n",
        "\n",
        "\n",
        "* We shall conduct our analysis by grouping the patients into 2 different groups.\n",
        "    * Group 1: Patients administered with D-penicillamine and have Ascites\n",
        "    * Group 2: Patients administered with D-penicillamine but don't have Ascites.\n",
        "\n",
        "\n"
      ]
    },
    {
      "cell_type": "code",
      "execution_count": 6,
      "id": "_oycPK8rJVXE",
      "metadata": {
        "colab": {
          "base_uri": "https://localhost:8080/",
          "height": 286
        },
        "id": "_oycPK8rJVXE",
        "outputId": "473798b1-d2fd-4f38-ea3b-f9ef51b250fd"
      },
      "outputs": [
        {
          "output_type": "display_data",
          "data": {
            "text/html": [
              "<table class=\"dataframe\">\n",
              "<caption>A data.frame: 6 × 3</caption>\n",
              "<thead>\n",
              "\t<tr><th></th><th scope=col>Status</th><th scope=col>Drug</th><th scope=col>Ascites</th></tr>\n",
              "\t<tr><th></th><th scope=col>&lt;chr&gt;</th><th scope=col>&lt;chr&gt;</th><th scope=col>&lt;chr&gt;</th></tr>\n",
              "</thead>\n",
              "<tbody>\n",
              "\t<tr><th scope=row>1</th><td>D</td><td>D-penicillamine</td><td>Y</td></tr>\n",
              "\t<tr><th scope=row>2</th><td>D</td><td>D-penicillamine</td><td>N</td></tr>\n",
              "\t<tr><th scope=row>3</th><td>D</td><td>D-penicillamine</td><td>N</td></tr>\n",
              "\t<tr><th scope=row>4</th><td>D</td><td>D-penicillamine</td><td>N</td></tr>\n",
              "\t<tr><th scope=row>5</th><td>D</td><td>D-penicillamine</td><td>N</td></tr>\n",
              "\t<tr><th scope=row>6</th><td>D</td><td>D-penicillamine</td><td>N</td></tr>\n",
              "</tbody>\n",
              "</table>\n"
            ],
            "text/markdown": "\nA data.frame: 6 × 3\n\n| <!--/--> | Status &lt;chr&gt; | Drug &lt;chr&gt; | Ascites &lt;chr&gt; |\n|---|---|---|---|\n| 1 | D | D-penicillamine | Y |\n| 2 | D | D-penicillamine | N |\n| 3 | D | D-penicillamine | N |\n| 4 | D | D-penicillamine | N |\n| 5 | D | D-penicillamine | N |\n| 6 | D | D-penicillamine | N |\n\n",
            "text/latex": "A data.frame: 6 × 3\n\\begin{tabular}{r|lll}\n  & Status & Drug & Ascites\\\\\n  & <chr> & <chr> & <chr>\\\\\n\\hline\n\t1 & D & D-penicillamine & Y\\\\\n\t2 & D & D-penicillamine & N\\\\\n\t3 & D & D-penicillamine & N\\\\\n\t4 & D & D-penicillamine & N\\\\\n\t5 & D & D-penicillamine & N\\\\\n\t6 & D & D-penicillamine & N\\\\\n\\end{tabular}\n",
            "text/plain": [
              "  Status Drug            Ascites\n",
              "1 D      D-penicillamine Y      \n",
              "2 D      D-penicillamine N      \n",
              "3 D      D-penicillamine N      \n",
              "4 D      D-penicillamine N      \n",
              "5 D      D-penicillamine N      \n",
              "6 D      D-penicillamine N      "
            ]
          },
          "metadata": {}
        }
      ],
      "source": [
        "# filtering dataset to include only those administered with D-penicillamine\n",
        "patients_dp <- cirrhosis_filtered |>\n",
        "               filter(Drug == \"D-penicillamine\")\n",
        "head(patients_dp)"
      ]
    },
    {
      "cell_type": "markdown",
      "source": [
        "    Table 4: Patients Administered D-pencillamine in Filtered Cirrhosis Dataset"
      ],
      "metadata": {
        "id": "FbYIqrCIdFOg"
      },
      "id": "FbYIqrCIdFOg"
    },
    {
      "cell_type": "markdown",
      "id": "d8nMNUNPV0My",
      "metadata": {
        "id": "d8nMNUNPV0My"
      },
      "source": [
        "Now, we will perform bootstrapping to estimate confidence intervals for the proportions of patients with and without Ascites (\"Y\" and \"N\"). With a seed for reproducibility, we will conduct 1,000 bootstrap replicates for each category. The resulting confidence intervals will help assess the precision of our estimates, providing a range within which the true population proportion likely lies."
      ]
    },
    {
      "cell_type": "code",
      "execution_count": 8,
      "id": "MO3BO8OwVzdR",
      "metadata": {
        "colab": {
          "base_uri": "https://localhost:8080/",
          "height": 129
        },
        "id": "MO3BO8OwVzdR",
        "outputId": "f79b1758-4ca8-4d8d-e856-f4b530f321d6"
      },
      "outputs": [
        {
          "output_type": "display_data",
          "data": {
            "text/html": [
              "<table class=\"dataframe\">\n",
              "<caption>A tibble: 1 × 2</caption>\n",
              "<thead>\n",
              "\t<tr><th scope=col>lower_ci</th><th scope=col>upper_ci</th></tr>\n",
              "\t<tr><th scope=col>&lt;dbl&gt;</th><th scope=col>&lt;dbl&gt;</th></tr>\n",
              "</thead>\n",
              "<tbody>\n",
              "\t<tr><td>0.09333333</td><td>0.2666667</td></tr>\n",
              "</tbody>\n",
              "</table>\n"
            ],
            "text/markdown": "\nA tibble: 1 × 2\n\n| lower_ci &lt;dbl&gt; | upper_ci &lt;dbl&gt; |\n|---|---|\n| 0.09333333 | 0.2666667 |\n\n",
            "text/latex": "A tibble: 1 × 2\n\\begin{tabular}{ll}\n lower\\_ci & upper\\_ci\\\\\n <dbl> & <dbl>\\\\\n\\hline\n\t 0.09333333 & 0.2666667\\\\\n\\end{tabular}\n",
            "text/plain": [
              "  lower_ci   upper_ci \n",
              "1 0.09333333 0.2666667"
            ]
          },
          "metadata": {}
        }
      ],
      "source": [
        "# set seed to ensure reproducability\n",
        "set.seed(69)\n",
        "\n",
        "bootstrap_ascites_present <- patients_dp |>\n",
        "                             specify(response = Ascites, success = \"Y\") |>\n",
        "                             generate(type = \"bootstrap\", reps = 1000) |>\n",
        "                             calculate(stat=\"prop\")\n",
        "ascites_present_ci <- bootstrap_ascites_present |>\n",
        "                      get_ci(level = 0.95, type = \"percentile\")\n",
        "\n",
        "ascites_present_ci"
      ]
    },
    {
      "cell_type": "markdown",
      "source": [
        "    Table 5: 95% Confidence Interval for Patients Exhibiting Ascites"
      ],
      "metadata": {
        "id": "wj78WP-cdr7P"
      },
      "id": "wj78WP-cdr7P"
    },
    {
      "cell_type": "code",
      "source": [
        "set.seed(69)\n",
        "\n",
        "bootstrap_ascites_absent <- patients_dp |>\n",
        "                            specify(response = Ascites,  success = \"N\") |>\n",
        "                            generate(type = \"bootstrap\", reps = 1000) |>\n",
        "                            calculate(stat=\"prop\")\n",
        "\n",
        "ascites_absent_ci <- bootstrap_ascites_absent |>\n",
        "                      get_ci(level = 0.95, type = \"percentile\")\n",
        "\n",
        "ascites_absent_ci"
      ],
      "metadata": {
        "id": "hoSW4KogdqeH",
        "outputId": "93b0cd45-88de-4829-9213-f7c8bcc9c222",
        "colab": {
          "base_uri": "https://localhost:8080/",
          "height": 129
        }
      },
      "id": "hoSW4KogdqeH",
      "execution_count": 10,
      "outputs": [
        {
          "output_type": "display_data",
          "data": {
            "text/html": [
              "<table class=\"dataframe\">\n",
              "<caption>A tibble: 1 × 2</caption>\n",
              "<thead>\n",
              "\t<tr><th scope=col>lower_ci</th><th scope=col>upper_ci</th></tr>\n",
              "\t<tr><th scope=col>&lt;dbl&gt;</th><th scope=col>&lt;dbl&gt;</th></tr>\n",
              "</thead>\n",
              "<tbody>\n",
              "\t<tr><td>0.7333333</td><td>0.9066667</td></tr>\n",
              "</tbody>\n",
              "</table>\n"
            ],
            "text/markdown": "\nA tibble: 1 × 2\n\n| lower_ci &lt;dbl&gt; | upper_ci &lt;dbl&gt; |\n|---|---|\n| 0.7333333 | 0.9066667 |\n\n",
            "text/latex": "A tibble: 1 × 2\n\\begin{tabular}{ll}\n lower\\_ci & upper\\_ci\\\\\n <dbl> & <dbl>\\\\\n\\hline\n\t 0.7333333 & 0.9066667\\\\\n\\end{tabular}\n",
            "text/plain": [
              "  lower_ci  upper_ci \n",
              "1 0.7333333 0.9066667"
            ]
          },
          "metadata": {}
        }
      ]
    },
    {
      "cell_type": "markdown",
      "source": [
        "    Table 6: 95% Confidence Interval for Patients Not Exhibiting Ascites"
      ],
      "metadata": {
        "id": "rhZNDSoDeKzD"
      },
      "id": "rhZNDSoDeKzD"
    },
    {
      "cell_type": "code",
      "execution_count": null,
      "id": "4r1WtYkcYLYG",
      "metadata": {
        "colab": {
          "base_uri": "https://localhost:8080/",
          "height": 437
        },
        "id": "4r1WtYkcYLYG",
        "outputId": "e5dddaf7-9727-4f3c-bfb0-672f835235bc"
      },
      "outputs": [
        {
          "data": {
            "image/png": "[encoded data removed]",
            "text/plain": [
              "plot without title"
            ]
          },
          "metadata": {
            "image/png": {
              "height": 420,
              "width": 420
            }
          },
          "output_type": "display_data"
        }
      ],
      "source": [
        "# bootstrap sampling distribution for patients that  have ascites\n",
        "ascites_present_plot <- bootstrap_ascites_present |>\n",
        "                        ggplot(aes(x = stat)) +\n",
        "                        geom_histogram(bins = 26, fill = \"orange\") +\n",
        "                        ggtitle(\"Prop. of Patients With Ascites\") +\n",
        "                        labs(x = \"Proportion\", y = \"Frequency\") +\n",
        "                        theme(axis.text=element_text(size=13),\n",
        "                              axis.title=element_text(size=15),\n",
        "                              plot.title = element_text(size=13))\n",
        "\n",
        "# bootstrap sampling distribution for patients that don't have ascites\n",
        "ascites_absent_plot <- bootstrap_ascites_absent |>\n",
        "                       ggplot(aes(x = stat)) +\n",
        "                       geom_histogram(bins = 19, fill = \"orange\") +\n",
        "                       ggtitle(\"Prop. of Patients Without Ascites\") +\n",
        "                       labs(x = \"Proportion\", y = \"Frequency\") +\n",
        "                       theme(axis.text=element_text(size=13),\n",
        "                             axis.title=element_text(size=15),\n",
        "                             plot.title = element_text(size=13))\n",
        "\n",
        "# Arrange the plots side by side\n",
        "grid.arrange(ascites_present_plot, ascites_absent_plot, ncol = 2)"
      ]
    },
    {
      "cell_type": "markdown",
      "id": "GbANxwoJogZ0",
      "metadata": {
        "id": "GbANxwoJogZ0"
      },
      "source": [
        "    Figure 1: Distribution of Patients with Ascites vs without Ascites."
      ]
    },
    {
      "cell_type": "markdown",
      "id": "faaed92f-0343-486a-a26b-8102de9787b2",
      "metadata": {
        "id": "faaed92f-0343-486a-a26b-8102de9787b2"
      },
      "source": [
        "Now, let's delve into the examination of the mortality rates within each group to understand the proportion of individuals who have unfortunately passed away."
      ]
    },
    {
      "cell_type": "code",
      "execution_count": null,
      "id": "669cc1a9-e361-40f5-a8ee-69aa25acef60",
      "metadata": {
        "colab": {
          "base_uri": "https://localhost:8080/",
          "height": 161
        },
        "id": "669cc1a9-e361-40f5-a8ee-69aa25acef60",
        "outputId": "ed5df11a-7d7a-45d0-9604-e2226ed27523"
      },
      "outputs": [
        {
          "data": {
            "text/html": [
              "<table class=\"dataframe\">\n",
              "<caption>A tibble: 2 × 2</caption>\n",
              "<thead>\n",
              "\t<tr><th scope=col>Ascites</th><th scope=col>prop</th></tr>\n",
              "\t<tr><th scope=col>&lt;chr&gt;</th><th scope=col>&lt;dbl&gt;</th></tr>\n",
              "</thead>\n",
              "<tbody>\n",
              "\t<tr><td>N</td><td>0.8</td></tr>\n",
              "\t<tr><td>Y</td><td>0.2</td></tr>\n",
              "</tbody>\n",
              "</table>\n"
            ],
            "text/latex": [
              "A tibble: 2 × 2\n",
              "\\begin{tabular}{ll}\n",
              " Ascites & prop\\\\\n",
              " <chr> & <dbl>\\\\\n",
              "\\hline\n",
              "\t N & 0.8\\\\\n",
              "\t Y & 0.2\\\\\n",
              "\\end{tabular}\n"
            ],
            "text/markdown": [
              "\n",
              "A tibble: 2 × 2\n",
              "\n",
              "| Ascites &lt;chr&gt; | prop &lt;dbl&gt; |\n",
              "|---|---|\n",
              "| N | 0.8 |\n",
              "| Y | 0.2 |\n",
              "\n"
            ],
            "text/plain": [
              "  Ascites prop\n",
              "1 N       0.8 \n",
              "2 Y       0.2 "
            ]
          },
          "metadata": {},
          "output_type": "display_data"
        }
      ],
      "source": [
        "# Counting the patients who have died in Group 1 and Group 2\n",
        "patients_dp_died <- patients_dp |>\n",
        "                    group_by(Ascites) |>\n",
        "                    filter(Status == \"D\") |>\n",
        "                    summarize(count = n())\n",
        "\n",
        "# patients_dp_died\n",
        "\n",
        "# Calculating the proportion of patients in Group 1 and Group 2\n",
        "prop_dp_died <- patients_dp_died |>\n",
        "                mutate(prop = count/sum(count)) |>\n",
        "                select(Ascites, prop)\n",
        "\n",
        "prop_dp_died"
      ]
    },
    {
      "cell_type": "markdown",
      "source": [
        "    Table 7: Proportion of Patients with Ascites Status who have Deceased"
      ],
      "metadata": {
        "id": "7eJ0WLzle-mU"
      },
      "id": "7eJ0WLzle-mU"
    },
    {
      "cell_type": "markdown",
      "id": "129c13a6-2ec4-4a8e-a14d-f40f61f701a6",
      "metadata": {
        "id": "129c13a6-2ec4-4a8e-a14d-f40f61f701a6"
      },
      "source": [
        "<a id='fig_2'></a>"
      ]
    },
    {
      "cell_type": "code",
      "execution_count": null,
      "id": "ce2e4643-1ae7-40f3-8137-c728a39bf8fa",
      "metadata": {
        "colab": {
          "base_uri": "https://localhost:8080/",
          "height": 515
        },
        "id": "ce2e4643-1ae7-40f3-8137-c728a39bf8fa",
        "outputId": "747b3617-0e73-4c9d-f4b7-0a2d75e034e9"
      },
      "outputs": [
        {
          "data": {
            "image/png": "[encoded data removed]",
            "text/plain": [
              "plot without title"
            ]
          },
          "metadata": {
            "image/png": {
              "height": 480,
              "width": 600
            }
          },
          "output_type": "display_data"
        }
      ],
      "source": [
        "# set the size of the plot (optional)\n",
        "options(repr.plot.width = 10, repr.plot.height = 8)\n",
        "\n",
        "# Plot a histogram to visualize the proportions\n",
        "raw_data_prop_plot <- prop_dp_died |>\n",
        "              ggplot(aes(x = Ascites, y = prop, fill = Ascites)) +\n",
        "              geom_col() +\n",
        "              geom_text(aes(label = prop), vjust=2, size = 6.5) +\n",
        "              labs(title = \"Mortality Proportions by the Occurence of Ascites\", x = \"Presence of Ascites\", y = \"Proportion\") +\n",
        "              theme(axis.text=element_text(size=15),\n",
        "                    axis.title=element_text(size=18),\n",
        "                    plot.title = element_text(size=22),\n",
        "                    legend.title = element_text(size=18),\n",
        "                    legend.text = element_text(size=13))\n",
        "\n",
        "raw_data_prop_plot"
      ]
    },
    {
      "cell_type": "markdown",
      "id": "BQkSIM_kpXp6",
      "metadata": {
        "id": "BQkSIM_kpXp6"
      },
      "source": [
        "    Figure 2: Mortality Rates Based on the Presence of Ascites."
      ]
    },
    {
      "cell_type": "markdown",
      "id": "nsjZOkH2f3SF",
      "metadata": {
        "id": "nsjZOkH2f3SF"
      },
      "source": [
        "Figure  2 indicates a noteworthy contrast in the mortality rates of patients treated with D-penicillamine, distinguishing between those with and without Ascites. The observed disparity in outcomes suggests a significant difference."
      ]
    },
    {
      "cell_type": "markdown",
      "id": "hrQM6_3fEAVA",
      "metadata": {
        "id": "hrQM6_3fEAVA"
      },
      "source": [
        "### Hypothesis Testing\n",
        "\n",
        "The estimates produced in the previous section are insufficient as there is no mention of the statistical significance of the evidence. Therefore, we will need to perform hypothesis testing to determine the reliability of our conclusion. We plan to support our data by testing the following hypothesis:\n",
        "\n",
        "*   $ H_0 : p_1 - p_2 = 0$\n",
        "*   $ H_1 : p_1 - p_2 \\neq 0$\n",
        "\n",
        "\n",
        "\n",
        "Here, $p_1$ denotes the proportion of patients administered with D-penicillamine and have Ascites who died, while $p_2$ represents the proportion of patients administered with D-penicillamine and do not have ascites but still died. The objective is to rigorously assess the statistical evidence supporting our conclusions.\n",
        "The null hypothesis states that the difference in mortality rates between patients administered with D-penicillamine and have Ascites ($p_1$) and those administered with D-penicillamine without ascites ($p_2$) who died is zero whereas the alternative hypothesis states that there is a difference between mortality rates between the two groups.\n",
        "\n",
        "We have chosen a significance level of $α=0.05$ for our hypothesis testing, striking a balance between the probabilities of type 1 and type 2 errors. Opting for a lower significance level would elevate the risk of committing a type 2 error, which, in this context, is more consequential than a type 1 error. A type 2 error would imply the erroneous conclusion that there is no difference in mortality rates when, in fact, there is. Conversely, increasing the significance level would necessitate stronger evidence to reach a statistically significant conclusion. Hence, our selected significance level aligns with the objective of minimizing both types of errors while maintaining a practical balance.\n",
        "\n",
        "A two-tailed test was chosen to assess the difference in mortality rates between patients with and without Ascites administered with D-penicillamine. This approach helps us detect any significant difference, ensuring a comprehensive analysis without overlooking effects in either direction. It balances the risks of type 1 and type 2 errors, aligning with a thorough evaluation of the research hypothesis."
      ]
    },
    {
      "cell_type": "markdown",
      "id": "NQF6sJ_xJOeO",
      "metadata": {
        "id": "NQF6sJ_xJOeO"
      },
      "source": [
        "### Creating the null model\n",
        "*   Now, we shall calculate the summary statistic and make a null distribution using the infer package.\n"
      ]
    },
    {
      "cell_type": "code",
      "execution_count": 14,
      "id": "49cc97fd-2cd5-4c40-bb15-fdf443bcfbc6",
      "metadata": {
        "colab": {
          "base_uri": "https://localhost:8080/",
          "height": 286
        },
        "id": "49cc97fd-2cd5-4c40-bb15-fdf443bcfbc6",
        "outputId": "c6a6f7a3-d370-432e-f4ee-30b66fa74538"
      },
      "outputs": [
        {
          "output_type": "display_data",
          "data": {
            "text/html": [
              "<table class=\"dataframe\">\n",
              "<caption>A infer: 6 × 2</caption>\n",
              "<thead>\n",
              "\t<tr><th scope=col>replicate</th><th scope=col>stat</th></tr>\n",
              "\t<tr><th scope=col>&lt;int&gt;</th><th scope=col>&lt;dbl&gt;</th></tr>\n",
              "</thead>\n",
              "<tbody>\n",
              "\t<tr><td>1</td><td>-0.02481390</td></tr>\n",
              "\t<tr><td>2</td><td> 0.06823821</td></tr>\n",
              "\t<tr><td>3</td><td> 0.16129032</td></tr>\n",
              "\t<tr><td>4</td><td> 0.06823821</td></tr>\n",
              "\t<tr><td>5</td><td>-0.11786600</td></tr>\n",
              "\t<tr><td>6</td><td> 0.16129032</td></tr>\n",
              "</tbody>\n",
              "</table>\n"
            ],
            "text/markdown": "\nA infer: 6 × 2\n\n| replicate &lt;int&gt; | stat &lt;dbl&gt; |\n|---|---|\n| 1 | -0.02481390 |\n| 2 |  0.06823821 |\n| 3 |  0.16129032 |\n| 4 |  0.06823821 |\n| 5 | -0.11786600 |\n| 6 |  0.16129032 |\n\n",
            "text/latex": "A infer: 6 × 2\n\\begin{tabular}{ll}\n replicate & stat\\\\\n <int> & <dbl>\\\\\n\\hline\n\t 1 & -0.02481390\\\\\n\t 2 &  0.06823821\\\\\n\t 3 &  0.16129032\\\\\n\t 4 &  0.06823821\\\\\n\t 5 & -0.11786600\\\\\n\t 6 &  0.16129032\\\\\n\\end{tabular}\n",
            "text/plain": [
              "  replicate stat       \n",
              "1 1         -0.02481390\n",
              "2 2          0.06823821\n",
              "3 3          0.16129032\n",
              "4 4          0.06823821\n",
              "5 5         -0.11786600\n",
              "6 6          0.16129032"
            ]
          },
          "metadata": {}
        }
      ],
      "source": [
        "# set seed to ensure that data is reproducible\n",
        "set.seed(69)\n",
        "\n",
        "# create the null distribution\n",
        "null_distribution <- patients_dp |>\n",
        "                     specify(formula = Status ~ Ascites, success = \"D\") |>\n",
        "                     hypothesize(null=\"independence\") |>\n",
        "                     generate(reps = 1000, type = \"permute\") |>\n",
        "                     calculate(stat = \"diff in props\", order = c(\"Y\", \"N\"))\n",
        "\n",
        "head(null_distribution)\n"
      ]
    },
    {
      "cell_type": "markdown",
      "source": [
        "    Table 8: 1000 samples taken from the Null Model using Infer Package"
      ],
      "metadata": {
        "id": "d5rNDDOugq0O"
      },
      "id": "d5rNDDOugq0O"
    },
    {
      "cell_type": "markdown",
      "id": "lcRRdAjsNF13",
      "metadata": {
        "id": "lcRRdAjsNF13"
      },
      "source": [
        "### Calculating test statistic\n",
        "\n",
        "\n",
        "*  Now, we shall calculate the observed difference in mortality rates using infer package.\n",
        "\n"
      ]
    },
    {
      "cell_type": "code",
      "execution_count": 15,
      "id": "zM5V2FFxNXUF",
      "metadata": {
        "colab": {
          "base_uri": "https://localhost:8080/",
          "height": 129
        },
        "id": "zM5V2FFxNXUF",
        "outputId": "260842f7-3036-435b-fc28-b5a8b7bd6534"
      },
      "outputs": [
        {
          "output_type": "display_data",
          "data": {
            "text/html": [
              "<table class=\"dataframe\">\n",
              "<caption>A infer: 1 × 1</caption>\n",
              "<thead>\n",
              "\t<tr><th scope=col>stat</th></tr>\n",
              "\t<tr><th scope=col>&lt;dbl&gt;</th></tr>\n",
              "</thead>\n",
              "<tbody>\n",
              "\t<tr><td>0.1612903</td></tr>\n",
              "</tbody>\n",
              "</table>\n"
            ],
            "text/markdown": "\nA infer: 1 × 1\n\n| stat &lt;dbl&gt; |\n|---|\n| 0.1612903 |\n\n",
            "text/latex": "A infer: 1 × 1\n\\begin{tabular}{l}\n stat\\\\\n <dbl>\\\\\n\\hline\n\t 0.1612903\\\\\n\\end{tabular}\n",
            "text/plain": [
              "  stat     \n",
              "1 0.1612903"
            ]
          },
          "metadata": {}
        }
      ],
      "source": [
        "obs_diff_prop <- patients_dp |>\n",
        "                 specify(Status ~ Ascites, success = \"D\") |>\n",
        "                 calculate(stat = \"diff in props\", order = c(\"Y\", \"N\"))\n",
        "obs_diff_prop"
      ]
    },
    {
      "cell_type": "markdown",
      "source": [
        "    Table 9: Observed Difference In Proportions"
      ],
      "metadata": {
        "id": "ETpOno7Yg-Dr"
      },
      "id": "ETpOno7Yg-Dr"
    },
    {
      "cell_type": "markdown",
      "id": "aBVrWYOWOhYr",
      "metadata": {
        "id": "aBVrWYOWOhYr"
      },
      "source": [
        "### Visualizing the p-value\n",
        "\n",
        "\n",
        "*   The final step is to visualize the p-value on the null distribution\n",
        "*   This means that, if the null hypothesis holds true, how surprised would we be to see a difference in mortality rates of 16.13%?\n",
        "*   We accomplish this by first visualizing the null distribution using the  function ```visualize()``` function of infer package, and then we shall use ```shade_p_value``` function and set ```obs_stat``` to ```obs_diff_prop``` and we will set the ```direction = \"right\"``` because our alternative hypothesis is \"more extreme\" than the hypothesized world.\n",
        "\n"
      ]
    },
    {
      "cell_type": "code",
      "execution_count": 16,
      "id": "M8j95UKSPm0c",
      "metadata": {
        "colab": {
          "base_uri": "https://localhost:8080/",
          "height": 497
        },
        "id": "M8j95UKSPm0c",
        "outputId": "8d2c9db8-ea60-4255-a222-bc7deedacb9a"
      },
      "outputs": [
        {
          "output_type": "display_data",
          "data": {
            "text/plain": [
              "plot without title"
            ],
            "image/png": "[encoded data removed]"
          },
          "metadata": {
            "image/png": {
              "width": 600,
              "height": 480
            }
          }
        }
      ],
      "source": [
        "# set the size of the plot\n",
        "options(repr.plot.width = 10, repr.plot.height = 8)\n",
        "\n",
        "# visualizing the null distribution\n",
        "null_plot <- visualise(null_distribution) +\n",
        "             shade_p_value(obs_stat = obs_diff_prop, direction = \"right\") +\n",
        "             theme(axis.text=element_text(size=16),\n",
        "                    axis.title=element_text(size=20),\n",
        "                    plot.title = element_text(size=22))\n",
        "\n",
        "null_plot"
      ]
    },
    {
      "cell_type": "markdown",
      "id": "p07JvIfxpg3y",
      "metadata": {
        "id": "p07JvIfxpg3y"
      },
      "source": [
        "    Figure 3: Simulation Based Null Distribution"
      ]
    },
    {
      "cell_type": "markdown",
      "id": "GTm_MWP-Qbde",
      "metadata": {
        "id": "GTm_MWP-Qbde"
      },
      "source": [
        "\n",
        "\n",
        "*   After visualizing the p-value (Figure 3), we can tell that there are chances that we will see a difference in the survival rates of 16.13% in a hypothesized world of no difference in the mortality rates between the two groups.\n",
        "*   Therefore, we would fail to reject the null hypothesis, in statistical terminology - \"Do not reject $H_0$\".\n"
      ]
    },
    {
      "cell_type": "markdown",
      "id": "T_4C-SwfRVeS",
      "metadata": {
        "id": "T_4C-SwfRVeS"
      },
      "source": [
        "### Computing the p-value\n",
        "\n",
        "\n",
        "*   We shall compute the p-value using ```get_p_value``` function with ```obs_stat = obs_diff_prop``` and ```direction = \"right\"```.  \n",
        "\n"
      ]
    },
    {
      "cell_type": "code",
      "execution_count": 19,
      "id": "X_BRXL3kR2sS",
      "metadata": {
        "id": "X_BRXL3kR2sS",
        "outputId": "0a11b860-789b-4d98-e5ea-1752c1fa5e8f",
        "colab": {
          "base_uri": "https://localhost:8080/",
          "height": 147
        }
      },
      "outputs": [
        {
          "output_type": "display_data",
          "data": {
            "text/html": [
              "<table class=\"dataframe\">\n",
              "<caption>A tibble: 1 × 1</caption>\n",
              "<thead>\n",
              "\t<tr><th scope=col>p_value</th></tr>\n",
              "\t<tr><th scope=col>&lt;dbl&gt;</th></tr>\n",
              "</thead>\n",
              "<tbody>\n",
              "\t<tr><td>0.104</td></tr>\n",
              "</tbody>\n",
              "</table>\n"
            ],
            "text/markdown": "\nA tibble: 1 × 1\n\n| p_value &lt;dbl&gt; |\n|---|\n| 0.104 |\n\n",
            "text/latex": "A tibble: 1 × 1\n\\begin{tabular}{l}\n p\\_value\\\\\n <dbl>\\\\\n\\hline\n\t 0.104\\\\\n\\end{tabular}\n",
            "text/plain": [
              "  p_value\n",
              "1 0.104  "
            ]
          },
          "metadata": {}
        }
      ],
      "source": [
        "p_val <- null_distribution |>\n",
        "         get_p_value(obs_stat = obs_diff_prop, direction = \"right\")\n",
        "p_val"
      ]
    },
    {
      "cell_type": "markdown",
      "source": [
        "    Table 10: P-Value calculated from Null Distribution"
      ],
      "metadata": {
        "id": "pOLucjI1hv1q"
      },
      "id": "pOLucjI1hv1q"
    },
    {
      "cell_type": "markdown",
      "id": "uk9Kvel9SJ43",
      "metadata": {
        "id": "uk9Kvel9SJ43"
      },
      "source": [
        "\n",
        "\n",
        "*   This information indicates that there is a 10.4% probability of observing a mortality rate difference as substantial as 16.13% between individuals treated with D-penicillamine, distinguishing between those with and without ascites, solely due to random sampling fluctuations in a null distribution.\n",
        "*   Since the p-value is larger than our pre-specified significance level of 0.05, we fail to reject the null hypothesis.\n",
        "\n"
      ]
    },
    {
      "cell_type": "markdown",
      "id": "QzdZkYl3YfmH",
      "metadata": {
        "id": "QzdZkYl3YfmH"
      },
      "source": [
        "### Bootstrap method for difference in proportions\n",
        "\n",
        "*   We shall now use boostrapping methods to test our hypothesis.\n"
      ]
    },
    {
      "cell_type": "code",
      "execution_count": 21,
      "id": "kuddIBxJYssn",
      "metadata": {
        "colab": {
          "base_uri": "https://localhost:8080/",
          "height": 286
        },
        "id": "kuddIBxJYssn",
        "outputId": "0e5ae92f-7d12-41ab-9d86-454a58a4afb4"
      },
      "outputs": [
        {
          "output_type": "display_data",
          "data": {
            "text/html": [
              "<table class=\"dataframe\">\n",
              "<caption>A infer: 6 × 2</caption>\n",
              "<thead>\n",
              "\t<tr><th scope=col>replicate</th><th scope=col>stat</th></tr>\n",
              "\t<tr><th scope=col>&lt;int&gt;</th><th scope=col>&lt;dbl&gt;</th></tr>\n",
              "</thead>\n",
              "<tbody>\n",
              "\t<tr><td>1</td><td>0.1774194</td></tr>\n",
              "\t<tr><td>2</td><td>0.1940299</td></tr>\n",
              "\t<tr><td>3</td><td>0.1896552</td></tr>\n",
              "\t<tr><td>4</td><td>0.1093750</td></tr>\n",
              "\t<tr><td>5</td><td>0.1639344</td></tr>\n",
              "\t<tr><td>6</td><td>0.1641791</td></tr>\n",
              "</tbody>\n",
              "</table>\n"
            ],
            "text/markdown": "\nA infer: 6 × 2\n\n| replicate &lt;int&gt; | stat &lt;dbl&gt; |\n|---|---|\n| 1 | 0.1774194 |\n| 2 | 0.1940299 |\n| 3 | 0.1896552 |\n| 4 | 0.1093750 |\n| 5 | 0.1639344 |\n| 6 | 0.1641791 |\n\n",
            "text/latex": "A infer: 6 × 2\n\\begin{tabular}{ll}\n replicate & stat\\\\\n <int> & <dbl>\\\\\n\\hline\n\t 1 & 0.1774194\\\\\n\t 2 & 0.1940299\\\\\n\t 3 & 0.1896552\\\\\n\t 4 & 0.1093750\\\\\n\t 5 & 0.1639344\\\\\n\t 6 & 0.1641791\\\\\n\\end{tabular}\n",
            "text/plain": [
              "  replicate stat     \n",
              "1 1         0.1774194\n",
              "2 2         0.1940299\n",
              "3 3         0.1896552\n",
              "4 4         0.1093750\n",
              "5 5         0.1639344\n",
              "6 6         0.1641791"
            ]
          },
          "metadata": {}
        }
      ],
      "source": [
        "# set the seed to ensure that data is reproducible\n",
        "set.seed(69)\n",
        "\n",
        "# generating the bootstrapping distribution with reps = 1000\n",
        "bootstrap_distribution <- patients_dp |>\n",
        "                          specify(formula = Status ~ Ascites, success = \"D\") |>\n",
        "                          generate(reps = 1000, type = \"bootstrap\") |>\n",
        "                          calculate(stat=\"diff in props\", order = c(\"Y\", \"N\"))\n",
        "head(bootstrap_distribution)"
      ]
    },
    {
      "cell_type": "markdown",
      "source": [
        "    Table 11: 1000 samples taken using Bootstraping with Infer Package"
      ],
      "metadata": {
        "id": "bioTXdV7hqcm"
      },
      "id": "bioTXdV7hqcm"
    },
    {
      "cell_type": "code",
      "execution_count": 22,
      "id": "1NqOHT2VZp3_",
      "metadata": {
        "colab": {
          "base_uri": "https://localhost:8080/",
          "height": 129
        },
        "id": "1NqOHT2VZp3_",
        "outputId": "51b67b3c-5324-4d1f-fea3-7f0966c0765d"
      },
      "outputs": [
        {
          "output_type": "display_data",
          "data": {
            "text/html": [
              "<table class=\"dataframe\">\n",
              "<caption>A tibble: 1 × 2</caption>\n",
              "<thead>\n",
              "\t<tr><th scope=col>lower_ci</th><th scope=col>upper_ci</th></tr>\n",
              "\t<tr><th scope=col>&lt;dbl&gt;</th><th scope=col>&lt;dbl&gt;</th></tr>\n",
              "</thead>\n",
              "<tbody>\n",
              "\t<tr><td>0.078125</td><td>0.2586769</td></tr>\n",
              "</tbody>\n",
              "</table>\n"
            ],
            "text/markdown": "\nA tibble: 1 × 2\n\n| lower_ci &lt;dbl&gt; | upper_ci &lt;dbl&gt; |\n|---|---|\n| 0.078125 | 0.2586769 |\n\n",
            "text/latex": "A tibble: 1 × 2\n\\begin{tabular}{ll}\n lower\\_ci & upper\\_ci\\\\\n <dbl> & <dbl>\\\\\n\\hline\n\t 0.078125 & 0.2586769\\\\\n\\end{tabular}\n",
            "text/plain": [
              "  lower_ci upper_ci \n",
              "1 0.078125 0.2586769"
            ]
          },
          "metadata": {}
        }
      ],
      "source": [
        "# generate the upper and lower confidence intervals with 95% confidence level\n",
        "percentile_ci <- bootstrap_distribution |>\n",
        "                 get_ci(level = 0.95, type = \"percentile\")\n",
        "percentile_ci"
      ]
    },
    {
      "cell_type": "markdown",
      "source": [
        "    Table 12: Upper and Lower Bounds of 95% Confidence Interval from Bootstrapping"
      ],
      "metadata": {
        "id": "KGb0Py-4iCJP"
      },
      "id": "KGb0Py-4iCJP"
    },
    {
      "cell_type": "code",
      "execution_count": 23,
      "id": "BGyHP2YmZ-iu",
      "metadata": {
        "colab": {
          "base_uri": "https://localhost:8080/",
          "height": 497
        },
        "id": "BGyHP2YmZ-iu",
        "outputId": "b9e8a69c-02f7-4d78-a7e3-f9ce69a9bdc4"
      },
      "outputs": [
        {
          "output_type": "display_data",
          "data": {
            "text/plain": [
              "plot without title"
            ],
            "image/png": "[encoded data removed]"
          },
          "metadata": {
            "image/png": {
              "width": 600,
              "height": 480
            }
          }
        }
      ],
      "source": [
        "# set the size of the plot\n",
        "options(repr.plot.width = 10, repr.plot.height = 8)\n",
        "\n",
        "# visualizing the 95% confidence interval on bootstrap disribution\n",
        "percentile_ci_plot <- visualize(bootstrap_distribution) +\n",
        "                      shade_confidence_interval(endpoints = percentile_ci) +\n",
        "                      theme(axis.text=element_text(size=16),\n",
        "                            axis.title=element_text(size=20),\n",
        "                            plot.title = element_text(size=22))\n",
        "\n",
        "percentile_ci_plot"
      ]
    },
    {
      "cell_type": "markdown",
      "id": "NmOOdY4bp9Z5",
      "metadata": {
        "id": "NmOOdY4bp9Z5"
      },
      "source": [
        "    Figure 4: Simulation-based Bootstrap Distribution with 95% confidence interval"
      ]
    },
    {
      "cell_type": "markdown",
      "id": "tanTKYYMadXK",
      "metadata": {
        "id": "tanTKYYMadXK"
      },
      "source": [
        "\n",
        "\n",
        "\n",
        "\n",
        "*   From Figure 4, we are 95% confident that the true difference in the population proportions $p_1 - p_2$ lies between 7.81% and 25.86%\n",
        "*   We can also deduce that our calculated p-value of 0.104 falls within the 95% confidence interval (0.0781, 0.2586), indicating that the disparity between $p_1$ and $p_2$ lacks statistical significance.\n"
      ]
    },
    {
      "cell_type": "markdown",
      "id": "chWwkv_Sca5D",
      "metadata": {
        "id": "chWwkv_Sca5D"
      },
      "source": [
        "### Standard Error Method\n",
        "\n",
        "\n",
        "*   Since the bootstrap distribution is roughly normally distributed, we can also compare it with the confidence interval generated from the standard error method.\n",
        "*   Here, we would use the ```get_ci``` function and set ```level = 0.95```,\n",
        "    ``` type = se``` and ```point_estimate = obs_diff_prop```.\n",
        "\n"
      ]
    },
    {
      "cell_type": "code",
      "execution_count": 25,
      "id": "6XKfkIejdAgm",
      "metadata": {
        "colab": {
          "base_uri": "https://localhost:8080/",
          "height": 129
        },
        "id": "6XKfkIejdAgm",
        "outputId": "b86e5981-7954-436c-c409-f5920bc29d0f"
      },
      "outputs": [
        {
          "output_type": "display_data",
          "data": {
            "text/html": [
              "<table class=\"dataframe\">\n",
              "<caption>A tibble: 1 × 2</caption>\n",
              "<thead>\n",
              "\t<tr><th scope=col>lower_ci</th><th scope=col>upper_ci</th></tr>\n",
              "\t<tr><th scope=col>&lt;dbl&gt;</th><th scope=col>&lt;dbl&gt;</th></tr>\n",
              "</thead>\n",
              "<tbody>\n",
              "\t<tr><td>0.07090481</td><td>0.2516758</td></tr>\n",
              "</tbody>\n",
              "</table>\n"
            ],
            "text/markdown": "\nA tibble: 1 × 2\n\n| lower_ci &lt;dbl&gt; | upper_ci &lt;dbl&gt; |\n|---|---|\n| 0.07090481 | 0.2516758 |\n\n",
            "text/latex": "A tibble: 1 × 2\n\\begin{tabular}{ll}\n lower\\_ci & upper\\_ci\\\\\n <dbl> & <dbl>\\\\\n\\hline\n\t 0.07090481 & 0.2516758\\\\\n\\end{tabular}\n",
            "text/plain": [
              "  lower_ci   upper_ci \n",
              "1 0.07090481 0.2516758"
            ]
          },
          "metadata": {}
        }
      ],
      "source": [
        "# generating 95% confidence level\n",
        "se_ci <- bootstrap_distribution |>\n",
        "         get_ci(level = 0.95, type = \"se\", point_estimate = obs_diff_prop)\n",
        "se_ci"
      ]
    },
    {
      "cell_type": "markdown",
      "source": [
        "    Table 13: Upper and Lower Bounds of 95% Confidence Interval from standard error method"
      ],
      "metadata": {
        "id": "hbUcZZd7ifwN"
      },
      "id": "hbUcZZd7ifwN"
    },
    {
      "cell_type": "markdown",
      "id": "c3O7apcmdY89",
      "metadata": {
        "id": "c3O7apcmdY89"
      },
      "source": [
        "### Visualize using Standard Error Method\n",
        "\n",
        "\n",
        "*   Now, we'll visualize the bootstrap distribution again using the confidence interval we calculated using the standard error method.\n"
      ]
    },
    {
      "cell_type": "code",
      "execution_count": 26,
      "id": "H8ioTEQ2dp6K",
      "metadata": {
        "colab": {
          "base_uri": "https://localhost:8080/",
          "height": 497
        },
        "id": "H8ioTEQ2dp6K",
        "outputId": "7bb348d5-7f05-485e-f008-bb262b7c6a07"
      },
      "outputs": [
        {
          "output_type": "display_data",
          "data": {
            "text/plain": [
              "plot without title"
            ],
            "image/png": "[encoded data removed]"
          },
          "metadata": {
            "image/png": {
              "width": 600,
              "height": 480
            }
          }
        }
      ],
      "source": [
        "# set the size of the plot\n",
        "options(repr.plot.width = 10, repr.plot.height = 8)\n",
        "\n",
        "# visualizing the 95% confidence interval on bootstrap disribution\n",
        "se_ci_plot <- visualize(bootstrap_distribution) +\n",
        "              shade_confidence_interval(endpoints = se_ci) +\n",
        "              theme(axis.text=element_text(size=16),\n",
        "                    axis.title=element_text(size=20),\n",
        "                    plot.title = element_text(size=22))\n",
        "\n",
        "se_ci_plot"
      ]
    },
    {
      "cell_type": "markdown",
      "id": "DD6bsnjpsULf",
      "metadata": {
        "id": "DD6bsnjpsULf"
      },
      "source": [
        "    Figure 5: Simulation-Based Bootstrap Distribution using standard error method"
      ]
    },
    {
      "cell_type": "markdown",
      "id": "MqZjbmyWdzBK",
      "metadata": {
        "id": "MqZjbmyWdzBK"
      },
      "source": [
        "\n",
        "\n",
        "*   Again, here we notice that the p-value of 0.104 is included in the confidence interval which shows that difference between $p_1$ and $p_2$ is not statistically significant.\n",
        "\n"
      ]
    },
    {
      "cell_type": "markdown",
      "id": "JYsSmx5afPCp",
      "metadata": {
        "id": "JYsSmx5afPCp"
      },
      "source": [
        "### Two Sample Z-test: Comparing the proportions of two independent populations using asymptotics\n",
        "\n",
        "Here, we'll consider the following case:\n",
        "\n",
        "*   $H_0: p_1 - p_2 = 0$ vs $H_1: p_1 - p_2 \\neq 0$\n",
        "\n",
        "to test $H_0$, we will use the following test statistic:\n",
        "$$Z = \\frac {\\hat{p_1} - \\hat{p_2}}{\\sqrt{\\hat{p}(1-\\hat{p})(\\frac{1}{n_1} + \\frac{1}{n_2})}}$$\n",
        "\n",
        "Pooled proportion is given by,\n",
        "$$\\hat{p} = \\frac{n_1\\hat{p_1}  + n_2\\hat{p_2}}{n_1 + n_2}$$"
      ]
    },
    {
      "cell_type": "code",
      "execution_count": 27,
      "id": "UwTCEI-kg-O7",
      "metadata": {
        "colab": {
          "base_uri": "https://localhost:8080/",
          "height": 217
        },
        "id": "UwTCEI-kg-O7",
        "outputId": "357466c1-ed43-4ad9-f496-9715fcf1e15f"
      },
      "outputs": [
        {
          "output_type": "stream",
          "name": "stderr",
          "text": [
            "Warning message in prop.test(x = c(sum(sample_1$Status == \"D\"), sum(sample_2$Status == :\n",
            "“Chi-squared approximation may be incorrect”\n"
          ]
        },
        {
          "output_type": "display_data",
          "data": {
            "text/html": [
              "<table class=\"dataframe\">\n",
              "<caption>A tibble: 1 × 9</caption>\n",
              "<thead>\n",
              "\t<tr><th scope=col>estimate1</th><th scope=col>estimate2</th><th scope=col>statistic</th><th scope=col>p.value</th><th scope=col>parameter</th><th scope=col>conf.low</th><th scope=col>conf.high</th><th scope=col>method</th><th scope=col>alternative</th></tr>\n",
              "\t<tr><th scope=col>&lt;dbl&gt;</th><th scope=col>&lt;dbl&gt;</th><th scope=col>&lt;dbl&gt;</th><th scope=col>&lt;dbl&gt;</th><th scope=col>&lt;dbl&gt;</th><th scope=col>&lt;dbl&gt;</th><th scope=col>&lt;dbl&gt;</th><th scope=col>&lt;chr&gt;</th><th scope=col>&lt;chr&gt;</th></tr>\n",
              "</thead>\n",
              "<tbody>\n",
              "\t<tr><td>1</td><td>0.8387097</td><td>2.419355</td><td>0.1198443</td><td>1</td><td>0.0697395</td><td>0.2528411</td><td>2-sample test for equality of proportions without continuity correction</td><td>two.sided</td></tr>\n",
              "</tbody>\n",
              "</table>\n"
            ],
            "text/markdown": "\nA tibble: 1 × 9\n\n| estimate1 &lt;dbl&gt; | estimate2 &lt;dbl&gt; | statistic &lt;dbl&gt; | p.value &lt;dbl&gt; | parameter &lt;dbl&gt; | conf.low &lt;dbl&gt; | conf.high &lt;dbl&gt; | method &lt;chr&gt; | alternative &lt;chr&gt; |\n|---|---|---|---|---|---|---|---|---|\n| 1 | 0.8387097 | 2.419355 | 0.1198443 | 1 | 0.0697395 | 0.2528411 | 2-sample test for equality of proportions without continuity correction | two.sided |\n\n",
            "text/latex": "A tibble: 1 × 9\n\\begin{tabular}{lllllllll}\n estimate1 & estimate2 & statistic & p.value & parameter & conf.low & conf.high & method & alternative\\\\\n <dbl> & <dbl> & <dbl> & <dbl> & <dbl> & <dbl> & <dbl> & <chr> & <chr>\\\\\n\\hline\n\t 1 & 0.8387097 & 2.419355 & 0.1198443 & 1 & 0.0697395 & 0.2528411 & 2-sample test for equality of proportions without continuity correction & two.sided\\\\\n\\end{tabular}\n",
            "text/plain": [
              "  estimate1 estimate2 statistic p.value   parameter conf.low  conf.high\n",
              "1 1         0.8387097 2.419355  0.1198443 1         0.0697395 0.2528411\n",
              "  method                                                                 \n",
              "1 2-sample test for equality of proportions without continuity correction\n",
              "  alternative\n",
              "1 two.sided  "
            ]
          },
          "metadata": {}
        }
      ],
      "source": [
        "# create a variable for patients with Ascites\n",
        "sample_1 <- patients_dp |>\n",
        "            filter(Ascites == \"Y\")\n",
        "\n",
        "# create a variable for patients without Ascites\n",
        "sample_2 <- patients_dp |>\n",
        "            filter(Ascites == \"N\")\n",
        "\n",
        "# Using R's prop.test() function to calculate the p-value given by Z-test\n",
        "# also using broom:tidy() to make the result presentable\n",
        "\n",
        "stats <- tidy(prop.test(x = c(sum(sample_1$Status == \"D\"),\n",
        "                              sum(sample_2$Status == \"D\")),\n",
        "                              n = c(nrow(sample_1), nrow(sample_2)),\n",
        "                              alternative = \"two.sided\",\n",
        "                              correct = F))\n",
        "stats"
      ]
    },
    {
      "cell_type": "markdown",
      "source": [
        "    Table 14: Results using prop.test() from 2 sample Z-test"
      ],
      "metadata": {
        "id": "ZAr6PQbKi_pG"
      },
      "id": "ZAr6PQbKi_pG"
    },
    {
      "cell_type": "markdown",
      "id": "A-PDAPNIi3S5",
      "metadata": {
        "id": "A-PDAPNIi3S5"
      },
      "source": [
        "\n",
        "\n",
        "*   In the above code snippet, we calculated the ```p.value```, ```conf.low``` and ```conf.high``` using ``` prop.test() ``` function in R. We used a 2-sample Z-test for comparing the proportions.\n",
        "*   We found the ```p.value``` of 0.1198, which is higher than our significance level of 0.05.\n",
        "*  Due to this, we shall not reject the null hypothesis at a 5% significance level.\n",
        "\n"
      ]
    },
    {
      "cell_type": "markdown",
      "id": "b2649d9d-a3a5-4894-8bcc-47790ed96a47",
      "metadata": {
        "id": "b2649d9d-a3a5-4894-8bcc-47790ed96a47"
      },
      "source": [
        "### Bootstrapping vs Asymptotic Methods"
      ]
    },
    {
      "cell_type": "markdown",
      "id": "5213fbe8-2ea4-4730-aad4-9bad6cb77fb5",
      "metadata": {
        "id": "5213fbe8-2ea4-4730-aad4-9bad6cb77fb5"
      },
      "source": [
        "|                  | Lower CI | Upper CI | P-value |\n",
        "| :---             |  :----:  |  :----:  |    ---: |\n",
        "| **Bootstrapping**| 0.0781   | 0.2597   | 0.104   |\n",
        "| **Asymtotic**    | 0.0697   | 0.2528   | 0.1198  |\n",
        "\n",
        "\n",
        "    Table 15: Comparison table between Bootstrapping and Asymptotic methods"
      ]
    },
    {
      "cell_type": "markdown",
      "id": "c43de1bd-fb27-4d5a-9fab-2eab89b6ae29",
      "metadata": {
        "id": "c43de1bd-fb27-4d5a-9fab-2eab89b6ae29"
      },
      "source": [
        "From the preliminary analysis, we expected to see a significant difference between the mortality of patients who were administered with D-penicillamine and had Ascites and mortality of patients who were adminsted with D-penicillamine and did not have Ascites. This hypothesis was tested using both bootstrapping and asymptotic methods. For asymptotic method, we chose to do the two-sample Z test because the population is not normally distributed due to the discrete random variables and we have a large enough sample size under the assumption: ${n\\hat{p} ≥ 10}$ and ${n(1 - \\hat{p}) ≥ 10}$. Therefore, the null model is a fairly good approximation here.\n",
        "\n",
        "Looking at the results from Bootstrapping and Z-test, we can see that both reported similar p-values, as seen in table 15. Under our significance level of 0.05, we fail to produce significant results using both these methods. Additionally, the confidence intervals reported by the two tests are quite similar as well, as can be seen in the table above.\n",
        "\n",
        "Generally, bootstrapping is more beneficial than asymptotics for several reasons. Firstly, bootstrapping, unlike asymptotic methods, does not rely on making certain assumptions about the distribution. Secondly, bootstrapping is applicable in obtaining sampling distributions of sample statistics that is unknown under Asymptotic methods."
      ]
    },
    {
      "cell_type": "markdown",
      "id": "5a1c2ad9-683b-433b-b822-76fc2f770af8",
      "metadata": {
        "id": "5a1c2ad9-683b-433b-b822-76fc2f770af8"
      },
      "source": [
        "## 3. Discussion"
      ]
    },
    {
      "cell_type": "markdown",
      "id": "d81f1d93-b042-46f3-8088-4f16d2ba1a07",
      "metadata": {
        "id": "d81f1d93-b042-46f3-8088-4f16d2ba1a07"
      },
      "source": [
        "Our project delved into a vital aspect of Primary Biliary Cirrhosis (PBC) treatment, seeking to clarify the role of ascites in the mortality rates of patients undergoing D-Penicillamine treatment. Through the preliminary analysis of the raw data, we observed that patients without ascites typically showcased higher survival proportions compared to those with ascites (Figure 2), suggesting a possible connection between ascites and increased mortality risk.\n",
        "\n",
        "To arrive at a stronger, statistical conclusion, we conducted hypothesis testing on the difference of proportions (mortality rates) between the two groups of interest. Since the p-value was 0.104 (Table 10), which is significantly higher than our 5% significance level, we fail to reject the null hypothesis, indicating that the differences could be explained by randomness.\n",
        "\n",
        "Further analysis using both bootstrap and standard error methods at 95% confidence level depicted intervals that did not demonstrate statistically significant results. Thus, there is insufficient data to conclude that ascites have a direct impact on mortality rates in PBC patients using D-penicillamine. Contrary to the results, we had expected to find a relationship between the presence of Ascites and mortality rate, especially since we saw the same in the preliminary analysis. However, both methods result in a consistent confidence intervals supporting the reliability of our testing. Therefore, another possible explanation for these unexpected results is that there are other factors affect mortality rate along with Ascites."
      ]
    },
    {
      "cell_type": "markdown",
      "id": "38abfc6c-a9f8-4d0d-8468-53265300e248",
      "metadata": {
        "id": "38abfc6c-a9f8-4d0d-8468-53265300e248"
      },
      "source": [
        "### Conclusion"
      ]
    },
    {
      "cell_type": "markdown",
      "id": "46c49483-7c20-4b9e-a5f4-2800e1f6e0c1",
      "metadata": {
        "id": "46c49483-7c20-4b9e-a5f4-2800e1f6e0c1"
      },
      "source": [
        "To summarize, while our study found numerical differences in mortality rates between PBC patients with and without ascites, the lack of statistical significance suggests that ascites should not be viewed as the only determinant of mortality in patients undergoing D-Penicillamine therapy. This finding has certain clinical practice implications. It emphasizes the complexity of managing PBC and the requirement for a comprehensive treatment plan that takes into account a range of possible risk factors. Understanding the complex and numerous aspects of PBC mortality may result in customized medical approaches, thereby enhancing the chance of survival for individuals struggling with this chronic illness."
      ]
    },
    {
      "cell_type": "markdown",
      "id": "772dab66-2471-44af-8c16-e6838b7d30fb",
      "metadata": {
        "id": "772dab66-2471-44af-8c16-e6838b7d30fb"
      },
      "source": [
        "### Future Direction"
      ]
    },
    {
      "cell_type": "markdown",
      "id": "28aa767b-5ce3-4369-b7c0-86deeb94e004",
      "metadata": {
        "id": "28aa767b-5ce3-4369-b7c0-86deeb94e004"
      },
      "source": [
        "One possibility of future research could investigate how specific comorbid conditions such as diabetes, cardiovascular diseases, or even the other conditions mentioned in this dataset (such as Spiders) interact with Ascites. This could offer critical insights into more effective treatment protocols.\n",
        "\n",
        "Another area for future research is the progression stages of PBC. Specifically, studies examining how early, middle, and late stages of PBC respond to D-Penicillamine treatment in the presence of Ascites could illuminate proper intervention. This can enhance patient outcomes and treatment efficacy.\n",
        "\n",
        "Lastly, to address the limitations of the current study‘s sample size and diversity, subsequent research should include a broader patient population. Studies involving different ethnicities, age groups, and geographic regions would provide a more representative understanding of PBC treatment outcomes globally and help in developing applicable treatment guidelines.\n"
      ]
    },
    {
      "cell_type": "markdown",
      "id": "509b1f44-54e0-423e-9b67-8e78e2a35af9",
      "metadata": {
        "id": "509b1f44-54e0-423e-9b67-8e78e2a35af9"
      },
      "source": [
        "## 4. References\n"
      ]
    },
    {
      "cell_type": "markdown",
      "id": "e1e12640-7fbe-49f5-ae73-4b23d3c9ebd8",
      "metadata": {
        "id": "e1e12640-7fbe-49f5-ae73-4b23d3c9ebd8"
      },
      "source": [
        "Prince, M., Chetwynd, A., Newman, W., Metcalf, J. V., &amp; James, O. F. W. (2002). Survival and symptom progression in a geographically based cohort of patients with primary biliary cirrhosis: Follow-up for up to 28 years. Gastroenterology, 123(4), 1044–1051. __https://doi.org/10.1053/gast.2002.36027__\n",
        "\n",
        "Purohit, T. (2015). Primary biliary cirrhosis: Pathophysiology, clinical presentation and therapy. World Journal of Hepatology, 7(7), 926. __https://doi.org/10.4254/wjh.v7.i7.926__\n",
        "\n",
        "Dickson,E., Grambsch,P., Fleming,T., Fisher,L., and Langworthy,A.. (2023). Cirrhosis Patient Survival Prediction. UCI Machine Learning Repository. __https://doi.org/10.24432/C5R02G.__"
      ]
    }
  ],
  "metadata": {
    "colab": {
      "provenance": []
    },
    "kernelspec": {
      "display_name": "R",
      "language": "R",
      "name": "ir"
    },
    "language_info": {
      "codemirror_mode": "r",
      "file_extension": ".r",
      "mimetype": "text/x-r-source",
      "name": "R",
      "pygments_lexer": "r",
      "version": "4.2.2"
    }
  },
  "nbformat": 4,
  "nbformat_minor": 5
}