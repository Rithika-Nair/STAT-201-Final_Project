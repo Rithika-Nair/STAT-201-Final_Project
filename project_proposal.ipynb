{
 "cells": [
  {
   "cell_type": "markdown",
   "id": "c3e43eb8-5e76-436b-89f3-27f126874124",
   "metadata": {},
   "source": [
    "# Statistical Inference on the Affect of Ascites and D-Penicillamine in Primary Biliary cirrhosis Patients' Mortality"
   ]
  },
  {
   "cell_type": "markdown",
   "id": "910ce436-b005-4310-a0c5-17be47223d8d",
   "metadata": {},
   "source": [
    "#### Authors: Hrishi Logani, Rithika Nair, Yuexiang Ni, Yuxi Zhang (Group 43)"
   ]
  },
  {
   "cell_type": "markdown",
   "id": "650bfad5-0913-4e09-a641-176ab278b85b",
   "metadata": {},
   "source": [
    "## Introduction"
   ]
  },
  {
   "cell_type": "markdown",
   "id": "c3f6022a-707f-4829-abfa-7fccda072f36",
   "metadata": {},
   "source": [
    "Primary biliary cirrhosis (PBC) is a chronic disease where the bile ducts in the liver slowly get damaged and destroyed, thus leading to liver damage. It is one of the major causes of liver-related morbidity and mortality. Various factors affect the prognosis of PBC which is crucial in effectively treating patients (Prince et al., 2002). Ascites, which is the build-up of fluid in abdominal regions, is one of the major complications of advanced PBC (Purohit, 2015). In this project, we want to evaluate the effect of this complication on the prognosis of patients administered with D-penicillamine. This drug, although used, does not have any known efficacy (Purohit, 2015). We chose to analyze this to provide better insights into effectively treating patients. Therefore, with this project, we are asking the following question:"
   ]
  },
  {
   "cell_type": "markdown",
   "id": "88e849ba-39cf-488f-8fe7-99e21a5f6cb3",
   "metadata": {},
   "source": [
    "#### For Primary Biliary Cirrhosis patients administered with D-Penicillamine, does the presence of Ascites determine their mortality?"
   ]
  },
  {
   "cell_type": "markdown",
   "id": "eb655975-6941-4f8e-9070-e516d42d7f74",
   "metadata": {},
   "source": [
    "To investigate this, we will analyze the difference in mortality rate (the proportion of deaths) based on the following categorical variables and the scale parameter will be a standard error of proportions.\n",
    "\n",
    "* Type of treatment (D-penicillamine or Placebo)\n",
    "<br>\n",
    "* Presence of Ascites"
   ]
  },
  {
   "cell_type": "markdown",
   "id": "44d9ff13-d9dd-4003-ad62-22c437d15585",
   "metadata": {},
   "source": [
    "The reason we chose the difference in proportions is because the above two variables are discrete and thus have only two possible outcomes for each variable. Thus, we can compare the amount of patients for each discrete value with the total number of patients. The reason we chose standard error as we are using proportions and would like to calculate how much our statistic will differ from the population proportion."
   ]
  },
  {
   "cell_type": "markdown",
   "id": "a0d4b95b-75e5-4a0b-adf2-5a1d4b9ea1fa",
   "metadata": {},
   "source": [
    "The dataset that will be used is the  data set __[Cirrhosis Patient Survival Prediction](https://archive.ics.uci.edu/dataset/878/cirrhosis+patient+survival+prediction+dataset-1)__ from UCI Machine Learning Repository. This dataset contains information on 418 patients diagnosed with PBC and the following information for each patient:\n",
    "\n",
    "1. `ID` - unique identifier \n",
    "2. `N_Days` - number of days between registration and the earlier of death, transplantation, or study analysis time in July 1986)\n",
    "3. `Status` - status of the patient C (censored), CL (censored due to liver tx), or D (death)\n",
    "4. `Drug` - type of drug D-penicillamine or placebo\n",
    "5. `Age` - age in [days]\n",
    "6. `Sex` -  M (male) or F (female)\n",
    "7. `Ascites` - presence of ascites N (No) or Y (Yes)\n",
    "8. `Hepatomegaly` - presence of hepatomegaly N (No) or Y (Yes)\n",
    "9. `Spiders`- presence of spiders N (No) or Y (Yes)\n",
    "10. `Edema` - presence of edema N (no edema and no diuretic therapy for edema), S (edema present without diuretics, or edema resolved by diuretics), or Y (edema despite diuretic therapy)\n",
    "11. `Bilirubin` - serum bilirubin in [mg/dl]\n",
    "12. `Cholesterol` - serum cholesterol in [mg/dl]\n",
    "13. `Albumin` - albumin in [gm/dl]\n",
    "14. `Copper` - urine copper in [ug/day]\n",
    "15. `Alk_Phos` - alkaline phosphatase in [U/liter]\n",
    "16. `SGOT` - SGOT in [U/ml]\n",
    "17. `Triglycerides` - triglicerides in [mg/dl]\n",
    "18. `Platelets` - platelets per cubic [ml/1000]\n",
    "19. `Prothrombin`- prothrombin time in seconds [s]\n",
    "20. `Stage`- histologic stage of disease (1, 2, 3, or 4)"
   ]
  },
  {
   "cell_type": "markdown",
   "id": "de927c23-01c8-42c6-9ba8-c12417191be9",
   "metadata": {},
   "source": [
    "## Preliminary results"
   ]
  },
  {
   "cell_type": "markdown",
   "id": "91e284e2-11d7-4362-89d3-9ce7ab0e89ce",
   "metadata": {},
   "source": [
    "## Methods"
   ]
  },
  {
   "cell_type": "markdown",
   "id": "c8e5d9c4-a3d7-4ae1-ad06-42ab5713c455",
   "metadata": {},
   "source": [
    "## References"
   ]
  },
  {
   "cell_type": "markdown",
   "id": "be48179b-70d0-44e8-807b-5d9cf825bb43",
   "metadata": {},
   "source": [
    "Prince, M., Chetwynd, A., Newman, W., Metcalf, J. V., &amp; James, O. F. W. (2002). Survival and symptom progression in a geographically based cohort of patients with primary biliary cirrhosis: Follow-up for up to 28 years. Gastroenterology, 123(4), 1044–1051. __https://doi.org/10.1053/gast.2002.36027__\n",
    "\n",
    "Purohit, T. (2015). Primary biliary cirrhosis: Pathophysiology, clinical presentation and therapy. World Journal of Hepatology, 7(7), 926. __https://doi.org/10.4254/wjh.v7.i7.926__ "
   ]
  },
  {
   "cell_type": "code",
   "execution_count": null,
   "id": "a6e9190c-7d86-4000-9bc8-39e3454644fd",
   "metadata": {},
   "outputs": [],
   "source": []
  }
 ],
 "metadata": {
  "kernelspec": {
   "display_name": "R",
   "language": "R",
   "name": "ir"
  },
  "language_info": {
   "codemirror_mode": "r",
   "file_extension": ".r",
   "mimetype": "text/x-r-source",
   "name": "R",
   "pygments_lexer": "r",
   "version": "4.2.2"
  }
 },
 "nbformat": 4,
 "nbformat_minor": 5
}
