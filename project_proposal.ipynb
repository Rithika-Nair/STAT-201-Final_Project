{
 "cells": [
  {
   "cell_type": "markdown",
   "id": "c3e43eb8-5e76-436b-89f3-27f126874124",
   "metadata": {},
   "source": [
    "# STAT 201 PROJECT PROPOSAL"
   ]
  },
  {
   "cell_type": "code",
   "execution_count": null,
   "id": "6a941fa3-8d64-4244-9635-69fd55916420",
   "metadata": {},
   "outputs": [],
   "source": []
  }
 ],
 "metadata": {
  "kernelspec": {
   "display_name": "R",
   "language": "R",
   "name": "ir"
  },
  "language_info": {
   "codemirror_mode": "r",
   "file_extension": ".r",
   "mimetype": "text/x-r-source",
   "name": "R",
   "pygments_lexer": "r",
   "version": "4.2.2"
  }
 },
 "nbformat": 4,
 "nbformat_minor": 5
}
